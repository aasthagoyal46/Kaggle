{
  "nbformat": 4,
  "nbformat_minor": 0,
  "metadata": {
    "colab": {
      "name": "Kaggle.ipynb",
      "provenance": [],
      "collapsed_sections": [],
      "authorship_tag": "ABX9TyMvnTcxDJfHmZzhB8VG98Xk",
      "include_colab_link": true
    },
    "kernelspec": {
      "name": "python3",
      "display_name": "Python 3"
    }
  },
  "cells": [
    {
      "cell_type": "markdown",
      "metadata": {
        "id": "view-in-github",
        "colab_type": "text"
      },
      "source": [
        "<a href=\"https://colab.research.google.com/github/aasthagoyal46/Kaggle/blob/master/Kaggle.ipynb\" target=\"_parent\"><img src=\"https://colab.research.google.com/assets/colab-badge.svg\" alt=\"Open In Colab\"/></a>"
      ]
    },
    {
      "cell_type": "code",
      "metadata": {
        "id": "rgt_9pG_9Tnh",
        "colab_type": "code",
        "colab": {}
      },
      "source": [
        "import pandas as pd\n",
        "import numpy as np\n",
        "\n",
        "import seaborn as sns\n",
        "import matplotlib.pyplot as plt\n",
        "\n",
        "from scipy import interp\n",
        "from sklearn.linear_model import LogisticRegression\n",
        "from sklearn.tree import DecisionTreeClassifier\n",
        "from sklearn.svm import SVC\n",
        "from sklearn.ensemble import RandomForestClassifier\n",
        "from sklearn.discriminant_analysis import LinearDiscriminantAnalysis, QuadraticDiscriminantAnalysis\n",
        "from sklearn.neighbors import KNeighborsClassifier\n",
        "from sklearn.naive_bayes import GaussianNB\n",
        "from xgboost import XGBClassifier\n",
        "from sklearn.model_selection import cross_validate\n",
        "\n",
        "import warnings\n",
        "warnings.simplefilter(action='ignore', category=FutureWarning)\n",
        "\n",
        "from google.colab import files"
      ],
      "execution_count": 0,
      "outputs": []
    },
    {
      "cell_type": "code",
      "metadata": {
        "id": "SzC4BAEfw5qA",
        "colab_type": "code",
        "colab": {}
      },
      "source": [
        "train_url = \"https://raw.githubusercontent.com/aasthagoyal46/Kaggle/master/train_final.csv\"\n",
        "test_url = \"https://raw.githubusercontent.com/aasthagoyal46/Kaggle/master/test_final.csv\"\n",
        "\n",
        "train = pd.read_csv(train_url)\n",
        "test = pd.read_csv(test_url)"
      ],
      "execution_count": 0,
      "outputs": []
    },
    {
      "cell_type": "code",
      "metadata": {
        "id": "YVIOFVYO_zgw",
        "colab_type": "code",
        "outputId": "5bdcf934-de92-4c77-99d8-ba441c51db36",
        "colab": {
          "base_uri": "https://localhost:8080/",
          "height": 34
        }
      },
      "source": [
        "train.shape"
      ],
      "execution_count": 3,
      "outputs": [
        {
          "output_type": "execute_result",
          "data": {
            "text/plain": [
              "(16383, 26)"
            ]
          },
          "metadata": {
            "tags": []
          },
          "execution_count": 3
        }
      ]
    },
    {
      "cell_type": "code",
      "metadata": {
        "id": "rlbgL1zOxBtz",
        "colab_type": "code",
        "outputId": "66e8c5cb-adbd-44bd-9171-1c31c3a28c32",
        "colab": {
          "base_uri": "https://localhost:8080/",
          "height": 195
        }
      },
      "source": [
        "train.head()"
      ],
      "execution_count": 4,
      "outputs": [
        {
          "output_type": "execute_result",
          "data": {
            "text/html": [
              "<div>\n",
              "<style scoped>\n",
              "    .dataframe tbody tr th:only-of-type {\n",
              "        vertical-align: middle;\n",
              "    }\n",
              "\n",
              "    .dataframe tbody tr th {\n",
              "        vertical-align: top;\n",
              "    }\n",
              "\n",
              "    .dataframe thead th {\n",
              "        text-align: right;\n",
              "    }\n",
              "</style>\n",
              "<table border=\"1\" class=\"dataframe\">\n",
              "  <thead>\n",
              "    <tr style=\"text-align: right;\">\n",
              "      <th></th>\n",
              "      <th>Id</th>\n",
              "      <th>Y</th>\n",
              "      <th>f1</th>\n",
              "      <th>f2</th>\n",
              "      <th>f3</th>\n",
              "      <th>f4</th>\n",
              "      <th>f5</th>\n",
              "      <th>f6</th>\n",
              "      <th>f7</th>\n",
              "      <th>f8</th>\n",
              "      <th>f9</th>\n",
              "      <th>f10</th>\n",
              "      <th>f11</th>\n",
              "      <th>f12</th>\n",
              "      <th>f13</th>\n",
              "      <th>f14</th>\n",
              "      <th>f15</th>\n",
              "      <th>f16</th>\n",
              "      <th>f17</th>\n",
              "      <th>f18</th>\n",
              "      <th>f19</th>\n",
              "      <th>f20</th>\n",
              "      <th>f21</th>\n",
              "      <th>f22</th>\n",
              "      <th>f23</th>\n",
              "      <th>f24</th>\n",
              "    </tr>\n",
              "  </thead>\n",
              "  <tbody>\n",
              "    <tr>\n",
              "      <th>0</th>\n",
              "      <td>1</td>\n",
              "      <td>1</td>\n",
              "      <td>25884</td>\n",
              "      <td>1</td>\n",
              "      <td>33.63</td>\n",
              "      <td>118596</td>\n",
              "      <td>1</td>\n",
              "      <td>0</td>\n",
              "      <td>118595</td>\n",
              "      <td>125738</td>\n",
              "      <td>1</td>\n",
              "      <td>3</td>\n",
              "      <td>1</td>\n",
              "      <td>2</td>\n",
              "      <td>121374</td>\n",
              "      <td>-2.266430</td>\n",
              "      <td>1945</td>\n",
              "      <td>118450</td>\n",
              "      <td>119184</td>\n",
              "      <td>1</td>\n",
              "      <td>121372</td>\n",
              "      <td>1</td>\n",
              "      <td>1</td>\n",
              "      <td>1</td>\n",
              "      <td>2</td>\n",
              "      <td>1</td>\n",
              "    </tr>\n",
              "    <tr>\n",
              "      <th>1</th>\n",
              "      <td>2</td>\n",
              "      <td>1</td>\n",
              "      <td>34346</td>\n",
              "      <td>1</td>\n",
              "      <td>10.62</td>\n",
              "      <td>118041</td>\n",
              "      <td>1</td>\n",
              "      <td>0</td>\n",
              "      <td>117902</td>\n",
              "      <td>130913</td>\n",
              "      <td>1</td>\n",
              "      <td>1</td>\n",
              "      <td>1</td>\n",
              "      <td>23</td>\n",
              "      <td>118943</td>\n",
              "      <td>-0.305612</td>\n",
              "      <td>15385</td>\n",
              "      <td>117945</td>\n",
              "      <td>292795</td>\n",
              "      <td>1</td>\n",
              "      <td>259173</td>\n",
              "      <td>1</td>\n",
              "      <td>1</td>\n",
              "      <td>1</td>\n",
              "      <td>1</td>\n",
              "      <td>1</td>\n",
              "    </tr>\n",
              "    <tr>\n",
              "      <th>2</th>\n",
              "      <td>3</td>\n",
              "      <td>1</td>\n",
              "      <td>34923</td>\n",
              "      <td>1</td>\n",
              "      <td>1.77</td>\n",
              "      <td>118327</td>\n",
              "      <td>1</td>\n",
              "      <td>0</td>\n",
              "      <td>117961</td>\n",
              "      <td>124402</td>\n",
              "      <td>1</td>\n",
              "      <td>2</td>\n",
              "      <td>1</td>\n",
              "      <td>1</td>\n",
              "      <td>118786</td>\n",
              "      <td>2.015561</td>\n",
              "      <td>7547</td>\n",
              "      <td>118933</td>\n",
              "      <td>290919</td>\n",
              "      <td>1</td>\n",
              "      <td>118784</td>\n",
              "      <td>1</td>\n",
              "      <td>1</td>\n",
              "      <td>1</td>\n",
              "      <td>1</td>\n",
              "      <td>1</td>\n",
              "    </tr>\n",
              "    <tr>\n",
              "      <th>3</th>\n",
              "      <td>4</td>\n",
              "      <td>1</td>\n",
              "      <td>80926</td>\n",
              "      <td>1</td>\n",
              "      <td>30.09</td>\n",
              "      <td>118300</td>\n",
              "      <td>1</td>\n",
              "      <td>0</td>\n",
              "      <td>117961</td>\n",
              "      <td>301218</td>\n",
              "      <td>1</td>\n",
              "      <td>0</td>\n",
              "      <td>1</td>\n",
              "      <td>1</td>\n",
              "      <td>118332</td>\n",
              "      <td>-3.172501</td>\n",
              "      <td>4933</td>\n",
              "      <td>118458</td>\n",
              "      <td>118331</td>\n",
              "      <td>1</td>\n",
              "      <td>307024</td>\n",
              "      <td>1</td>\n",
              "      <td>1</td>\n",
              "      <td>1</td>\n",
              "      <td>2</td>\n",
              "      <td>1</td>\n",
              "    </tr>\n",
              "    <tr>\n",
              "      <th>4</th>\n",
              "      <td>5</td>\n",
              "      <td>1</td>\n",
              "      <td>4674</td>\n",
              "      <td>1</td>\n",
              "      <td>1.77</td>\n",
              "      <td>119921</td>\n",
              "      <td>1</td>\n",
              "      <td>0</td>\n",
              "      <td>119920</td>\n",
              "      <td>302830</td>\n",
              "      <td>1</td>\n",
              "      <td>0</td>\n",
              "      <td>1</td>\n",
              "      <td>2</td>\n",
              "      <td>128231</td>\n",
              "      <td>0.573767</td>\n",
              "      <td>13836</td>\n",
              "      <td>142145</td>\n",
              "      <td>4673</td>\n",
              "      <td>1</td>\n",
              "      <td>128230</td>\n",
              "      <td>1</td>\n",
              "      <td>1</td>\n",
              "      <td>1</td>\n",
              "      <td>620</td>\n",
              "      <td>1</td>\n",
              "    </tr>\n",
              "  </tbody>\n",
              "</table>\n",
              "</div>"
            ],
            "text/plain": [
              "   Id  Y     f1  f2     f3      f4  f5  ...  f18     f19  f20  f21  f22  f23  f24\n",
              "0   1  1  25884   1  33.63  118596   1  ...    1  121372    1    1    1    2    1\n",
              "1   2  1  34346   1  10.62  118041   1  ...    1  259173    1    1    1    1    1\n",
              "2   3  1  34923   1   1.77  118327   1  ...    1  118784    1    1    1    1    1\n",
              "3   4  1  80926   1  30.09  118300   1  ...    1  307024    1    1    1    2    1\n",
              "4   5  1   4674   1   1.77  119921   1  ...    1  128230    1    1    1  620    1\n",
              "\n",
              "[5 rows x 26 columns]"
            ]
          },
          "metadata": {
            "tags": []
          },
          "execution_count": 4
        }
      ]
    },
    {
      "cell_type": "code",
      "metadata": {
        "id": "zz95in1BxNQB",
        "colab_type": "code",
        "outputId": "4cd99955-da26-4d4f-9950-91e2cddc2219",
        "colab": {
          "base_uri": "https://localhost:8080/",
          "height": 304
        }
      },
      "source": [
        "train.describe()"
      ],
      "execution_count": 5,
      "outputs": [
        {
          "output_type": "execute_result",
          "data": {
            "text/html": [
              "<div>\n",
              "<style scoped>\n",
              "    .dataframe tbody tr th:only-of-type {\n",
              "        vertical-align: middle;\n",
              "    }\n",
              "\n",
              "    .dataframe tbody tr th {\n",
              "        vertical-align: top;\n",
              "    }\n",
              "\n",
              "    .dataframe thead th {\n",
              "        text-align: right;\n",
              "    }\n",
              "</style>\n",
              "<table border=\"1\" class=\"dataframe\">\n",
              "  <thead>\n",
              "    <tr style=\"text-align: right;\">\n",
              "      <th></th>\n",
              "      <th>Id</th>\n",
              "      <th>Y</th>\n",
              "      <th>f1</th>\n",
              "      <th>f2</th>\n",
              "      <th>f3</th>\n",
              "      <th>f4</th>\n",
              "      <th>f5</th>\n",
              "      <th>f6</th>\n",
              "      <th>f7</th>\n",
              "      <th>f8</th>\n",
              "      <th>f9</th>\n",
              "      <th>f10</th>\n",
              "      <th>f11</th>\n",
              "      <th>f12</th>\n",
              "      <th>f13</th>\n",
              "      <th>f14</th>\n",
              "      <th>f15</th>\n",
              "      <th>f16</th>\n",
              "      <th>f17</th>\n",
              "      <th>f18</th>\n",
              "      <th>f19</th>\n",
              "      <th>f20</th>\n",
              "      <th>f21</th>\n",
              "      <th>f22</th>\n",
              "      <th>f23</th>\n",
              "      <th>f24</th>\n",
              "    </tr>\n",
              "  </thead>\n",
              "  <tbody>\n",
              "    <tr>\n",
              "      <th>count</th>\n",
              "      <td>16383.000000</td>\n",
              "      <td>16383.000000</td>\n",
              "      <td>16383.000000</td>\n",
              "      <td>16383.000000</td>\n",
              "      <td>16383.000000</td>\n",
              "      <td>16383.000000</td>\n",
              "      <td>16383.000000</td>\n",
              "      <td>16383.000000</td>\n",
              "      <td>16383.000000</td>\n",
              "      <td>16383.000000</td>\n",
              "      <td>16383.000000</td>\n",
              "      <td>16383.000000</td>\n",
              "      <td>16383.000000</td>\n",
              "      <td>16383.000000</td>\n",
              "      <td>16383.000000</td>\n",
              "      <td>16383.000000</td>\n",
              "      <td>16383.000000</td>\n",
              "      <td>16383.000000</td>\n",
              "      <td>16383.000000</td>\n",
              "      <td>16383.000000</td>\n",
              "      <td>16383.000000</td>\n",
              "      <td>16383.000000</td>\n",
              "      <td>16383.000000</td>\n",
              "      <td>16383.000000</td>\n",
              "      <td>1.638300e+04</td>\n",
              "      <td>16383.000000</td>\n",
              "    </tr>\n",
              "    <tr>\n",
              "      <th>mean</th>\n",
              "      <td>8192.000000</td>\n",
              "      <td>0.942135</td>\n",
              "      <td>43007.775865</td>\n",
              "      <td>1.044375</td>\n",
              "      <td>11.770938</td>\n",
              "      <td>118323.581456</td>\n",
              "      <td>1.044436</td>\n",
              "      <td>0.050052</td>\n",
              "      <td>117089.674113</td>\n",
              "      <td>169730.178600</td>\n",
              "      <td>1.041812</td>\n",
              "      <td>4.976317</td>\n",
              "      <td>1.042483</td>\n",
              "      <td>6.378380</td>\n",
              "      <td>119774.307941</td>\n",
              "      <td>0.293940</td>\n",
              "      <td>25894.316914</td>\n",
              "      <td>119045.099005</td>\n",
              "      <td>184622.040835</td>\n",
              "      <td>1.047305</td>\n",
              "      <td>125959.667765</td>\n",
              "      <td>1.044558</td>\n",
              "      <td>1.045718</td>\n",
              "      <td>1.041934</td>\n",
              "      <td>3.271890e+04</td>\n",
              "      <td>1.043948</td>\n",
              "    </tr>\n",
              "    <tr>\n",
              "      <th>std</th>\n",
              "      <td>4729.509065</td>\n",
              "      <td>0.233495</td>\n",
              "      <td>33611.182771</td>\n",
              "      <td>0.264806</td>\n",
              "      <td>353.187115</td>\n",
              "      <td>4518.059755</td>\n",
              "      <td>0.265601</td>\n",
              "      <td>0.293892</td>\n",
              "      <td>10261.292970</td>\n",
              "      <td>69396.677853</td>\n",
              "      <td>0.258226</td>\n",
              "      <td>65.629620</td>\n",
              "      <td>0.254664</td>\n",
              "      <td>108.216528</td>\n",
              "      <td>5609.093416</td>\n",
              "      <td>1.728999</td>\n",
              "      <td>36086.993946</td>\n",
              "      <td>18321.987129</td>\n",
              "      <td>100590.811845</td>\n",
              "      <td>0.306239</td>\n",
              "      <td>31091.344158</td>\n",
              "      <td>0.262576</td>\n",
              "      <td>0.266874</td>\n",
              "      <td>0.246597</td>\n",
              "      <td>3.184929e+06</td>\n",
              "      <td>0.259640</td>\n",
              "    </tr>\n",
              "    <tr>\n",
              "      <th>min</th>\n",
              "      <td>1.000000</td>\n",
              "      <td>0.000000</td>\n",
              "      <td>-1.000000</td>\n",
              "      <td>1.000000</td>\n",
              "      <td>1.770000</td>\n",
              "      <td>23779.000000</td>\n",
              "      <td>1.000000</td>\n",
              "      <td>0.000000</td>\n",
              "      <td>4292.000000</td>\n",
              "      <td>4673.000000</td>\n",
              "      <td>1.000000</td>\n",
              "      <td>0.000000</td>\n",
              "      <td>1.000000</td>\n",
              "      <td>1.000000</td>\n",
              "      <td>117880.000000</td>\n",
              "      <td>-7.446045</td>\n",
              "      <td>25.000000</td>\n",
              "      <td>4674.000000</td>\n",
              "      <td>3130.000000</td>\n",
              "      <td>1.000000</td>\n",
              "      <td>117879.000000</td>\n",
              "      <td>1.000000</td>\n",
              "      <td>1.000000</td>\n",
              "      <td>1.000000</td>\n",
              "      <td>1.000000e+00</td>\n",
              "      <td>1.000000</td>\n",
              "    </tr>\n",
              "    <tr>\n",
              "      <th>25%</th>\n",
              "      <td>4096.500000</td>\n",
              "      <td>1.000000</td>\n",
              "      <td>20311.000000</td>\n",
              "      <td>1.000000</td>\n",
              "      <td>1.770000</td>\n",
              "      <td>118096.000000</td>\n",
              "      <td>1.000000</td>\n",
              "      <td>0.000000</td>\n",
              "      <td>117961.000000</td>\n",
              "      <td>117906.000000</td>\n",
              "      <td>1.000000</td>\n",
              "      <td>0.000000</td>\n",
              "      <td>1.000000</td>\n",
              "      <td>1.000000</td>\n",
              "      <td>118232.000000</td>\n",
              "      <td>-0.704562</td>\n",
              "      <td>4554.000000</td>\n",
              "      <td>118395.000000</td>\n",
              "      <td>118398.000000</td>\n",
              "      <td>1.000000</td>\n",
              "      <td>118274.000000</td>\n",
              "      <td>1.000000</td>\n",
              "      <td>1.000000</td>\n",
              "      <td>1.000000</td>\n",
              "      <td>1.000000e+00</td>\n",
              "      <td>1.000000</td>\n",
              "    </tr>\n",
              "    <tr>\n",
              "      <th>50%</th>\n",
              "      <td>8192.000000</td>\n",
              "      <td>1.000000</td>\n",
              "      <td>35527.000000</td>\n",
              "      <td>1.000000</td>\n",
              "      <td>1.770000</td>\n",
              "      <td>118300.000000</td>\n",
              "      <td>1.000000</td>\n",
              "      <td>0.000000</td>\n",
              "      <td>117961.000000</td>\n",
              "      <td>128130.000000</td>\n",
              "      <td>1.000000</td>\n",
              "      <td>0.000000</td>\n",
              "      <td>1.000000</td>\n",
              "      <td>1.000000</td>\n",
              "      <td>118565.000000</td>\n",
              "      <td>1.000000</td>\n",
              "      <td>13234.000000</td>\n",
              "      <td>118929.000000</td>\n",
              "      <td>119095.000000</td>\n",
              "      <td>1.000000</td>\n",
              "      <td>118568.000000</td>\n",
              "      <td>1.000000</td>\n",
              "      <td>1.000000</td>\n",
              "      <td>1.000000</td>\n",
              "      <td>2.000000e+00</td>\n",
              "      <td>1.000000</td>\n",
              "    </tr>\n",
              "    <tr>\n",
              "      <th>75%</th>\n",
              "      <td>12287.500000</td>\n",
              "      <td>1.000000</td>\n",
              "      <td>74240.500000</td>\n",
              "      <td>1.000000</td>\n",
              "      <td>3.540000</td>\n",
              "      <td>118386.000000</td>\n",
              "      <td>1.000000</td>\n",
              "      <td>0.000000</td>\n",
              "      <td>117961.000000</td>\n",
              "      <td>234498.500000</td>\n",
              "      <td>1.000000</td>\n",
              "      <td>1.000000</td>\n",
              "      <td>1.000000</td>\n",
              "      <td>2.000000</td>\n",
              "      <td>119348.000000</td>\n",
              "      <td>1.000000</td>\n",
              "      <td>38902.000000</td>\n",
              "      <td>120539.000000</td>\n",
              "      <td>290919.000000</td>\n",
              "      <td>1.000000</td>\n",
              "      <td>120006.000000</td>\n",
              "      <td>1.000000</td>\n",
              "      <td>1.000000</td>\n",
              "      <td>1.000000</td>\n",
              "      <td>9.000000e+00</td>\n",
              "      <td>1.000000</td>\n",
              "    </tr>\n",
              "    <tr>\n",
              "      <th>max</th>\n",
              "      <td>16383.000000</td>\n",
              "      <td>1.000000</td>\n",
              "      <td>312152.000000</td>\n",
              "      <td>7.000000</td>\n",
              "      <td>43910.160000</td>\n",
              "      <td>286791.000000</td>\n",
              "      <td>9.000000</td>\n",
              "      <td>10.000000</td>\n",
              "      <td>311178.000000</td>\n",
              "      <td>311867.000000</td>\n",
              "      <td>11.000000</td>\n",
              "      <td>5036.000000</td>\n",
              "      <td>8.000000</td>\n",
              "      <td>10076.000000</td>\n",
              "      <td>270691.000000</td>\n",
              "      <td>7.398682</td>\n",
              "      <td>311696.000000</td>\n",
              "      <td>286792.000000</td>\n",
              "      <td>308574.000000</td>\n",
              "      <td>18.000000</td>\n",
              "      <td>311867.000000</td>\n",
              "      <td>8.000000</td>\n",
              "      <td>8.000000</td>\n",
              "      <td>7.000000</td>\n",
              "      <td>4.042886e+08</td>\n",
              "      <td>8.000000</td>\n",
              "    </tr>\n",
              "  </tbody>\n",
              "</table>\n",
              "</div>"
            ],
            "text/plain": [
              "                 Id             Y  ...           f23           f24\n",
              "count  16383.000000  16383.000000  ...  1.638300e+04  16383.000000\n",
              "mean    8192.000000      0.942135  ...  3.271890e+04      1.043948\n",
              "std     4729.509065      0.233495  ...  3.184929e+06      0.259640\n",
              "min        1.000000      0.000000  ...  1.000000e+00      1.000000\n",
              "25%     4096.500000      1.000000  ...  1.000000e+00      1.000000\n",
              "50%     8192.000000      1.000000  ...  2.000000e+00      1.000000\n",
              "75%    12287.500000      1.000000  ...  9.000000e+00      1.000000\n",
              "max    16383.000000      1.000000  ...  4.042886e+08      8.000000\n",
              "\n",
              "[8 rows x 26 columns]"
            ]
          },
          "metadata": {
            "tags": []
          },
          "execution_count": 5
        }
      ]
    },
    {
      "cell_type": "code",
      "metadata": {
        "id": "IN0AsjCTxFO9",
        "colab_type": "code",
        "outputId": "a40b0b3e-384d-4502-8fac-0ae6c9943c4a",
        "colab": {
          "base_uri": "https://localhost:8080/",
          "height": 34
        }
      },
      "source": [
        "train.isnull().sum().sum()"
      ],
      "execution_count": 6,
      "outputs": [
        {
          "output_type": "execute_result",
          "data": {
            "text/plain": [
              "0"
            ]
          },
          "metadata": {
            "tags": []
          },
          "execution_count": 6
        }
      ]
    },
    {
      "cell_type": "code",
      "metadata": {
        "id": "0GTeP90b8W83",
        "colab_type": "code",
        "outputId": "adc0f269-afe1-4381-8215-ce89eefc9026",
        "colab": {
          "base_uri": "https://localhost:8080/",
          "height": 562
        }
      },
      "source": [
        "train.info()"
      ],
      "execution_count": 7,
      "outputs": [
        {
          "output_type": "stream",
          "text": [
            "<class 'pandas.core.frame.DataFrame'>\n",
            "RangeIndex: 16383 entries, 0 to 16382\n",
            "Data columns (total 26 columns):\n",
            "Id     16383 non-null int64\n",
            "Y      16383 non-null int64\n",
            "f1     16383 non-null int64\n",
            "f2     16383 non-null int64\n",
            "f3     16383 non-null float64\n",
            "f4     16383 non-null int64\n",
            "f5     16383 non-null int64\n",
            "f6     16383 non-null int64\n",
            "f7     16383 non-null int64\n",
            "f8     16383 non-null int64\n",
            "f9     16383 non-null int64\n",
            "f10    16383 non-null int64\n",
            "f11    16383 non-null int64\n",
            "f12    16383 non-null int64\n",
            "f13    16383 non-null int64\n",
            "f14    16383 non-null float64\n",
            "f15    16383 non-null int64\n",
            "f16    16383 non-null int64\n",
            "f17    16383 non-null int64\n",
            "f18    16383 non-null int64\n",
            "f19    16383 non-null int64\n",
            "f20    16383 non-null int64\n",
            "f21    16383 non-null int64\n",
            "f22    16383 non-null int64\n",
            "f23    16383 non-null int64\n",
            "f24    16383 non-null int64\n",
            "dtypes: float64(2), int64(24)\n",
            "memory usage: 3.2 MB\n"
          ],
          "name": "stdout"
        }
      ]
    },
    {
      "cell_type": "code",
      "metadata": {
        "id": "p8Raj-2c-1cY",
        "colab_type": "code",
        "outputId": "2b5834f3-d125-4c46-970e-56b786313555",
        "colab": {
          "base_uri": "https://localhost:8080/",
          "height": 286
        }
      },
      "source": [
        "sns.heatmap(train.corr())"
      ],
      "execution_count": 8,
      "outputs": [
        {
          "output_type": "execute_result",
          "data": {
            "text/plain": [
              "<matplotlib.axes._subplots.AxesSubplot at 0x7f15510c6e10>"
            ]
          },
          "metadata": {
            "tags": []
          },
          "execution_count": 8
        },
        {
          "output_type": "display_data",
          "data": {
            "image/png": "[encoded data removed]",
            "text/plain": [
              "<Figure size 432x288 with 2 Axes>"
            ]
          },
          "metadata": {
            "tags": []
          }
        }
      ]
    },
    {
      "cell_type": "code",
      "metadata": {
        "id": "eAixtMe24G6J",
        "colab_type": "code",
        "colab": {}
      },
      "source": [
        "trainX = train.iloc[:, 2:]\n",
        "trainY = train.iloc[:, 1]\n",
        "testX = test.iloc[:, 1:]"
      ],
      "execution_count": 0,
      "outputs": []
    },
    {
      "cell_type": "code",
      "metadata": {
        "id": "X-j1OSstGtMb",
        "colab_type": "code",
        "colab": {}
      },
      "source": [
        "def roc_cv(model, x, y):\n",
        "  roc = cross_validate(model, x, y, scoring=\"roc_auc\", cv = 5)\n",
        "  return(roc['test_score'].mean())"
      ],
      "execution_count": 0,
      "outputs": []
    },
    {
      "cell_type": "code",
      "metadata": {
        "id": "pa1atQn9BeLN",
        "colab_type": "code",
        "colab": {}
      },
      "source": [
        "def predictResults(name, model):\n",
        "  model.fit(trainX, trainY)\n",
        "  pred = model.predict_proba(testX)[:, 1]\n",
        "  result = pd.DataFrame({\"Id\": test[\"Id\"], 'Y':pred})\n",
        "  result.to_csv('result'+name+'.csv', index = False)\n",
        "  files.download('result'+name+'.csv')"
      ],
      "execution_count": 0,
      "outputs": []
    },
    {
      "cell_type": "code",
      "metadata": {
        "id": "-1R6ADeZys4_",
        "colab_type": "code",
        "outputId": "838ae7a1-4d84-41b5-e48b-b85a45f9380f",
        "colab": {
          "base_uri": "https://localhost:8080/",
          "height": 175
        }
      },
      "source": [
        "lr = LogisticRegression()\n",
        "print(\"Logistic Regression CV:\", roc_cv(lr, trainX, trainY))\n",
        "predictResults(\"LR\", lr)"
      ],
      "execution_count": 11,
      "outputs": [
        {
          "output_type": "stream",
          "text": [
            "/usr/local/lib/python3.6/dist-packages/sklearn/linear_model/_logistic.py:940: ConvergenceWarning: lbfgs failed to converge (status=1):\n",
            "STOP: TOTAL NO. of ITERATIONS REACHED LIMIT.\n",
            "\n",
            "Increase the number of iterations (max_iter) or scale the data as shown in:\n",
            "    https://scikit-learn.org/stable/modules/preprocessing.html\n",
            "Please also refer to the documentation for alternative solver options:\n",
            "    https://scikit-learn.org/stable/modules/linear_model.html#logistic-regression\n",
            "  extra_warning_msg=_LOGISTIC_SOLVER_CONVERGENCE_MSG)\n"
          ],
          "name": "stderr"
        },
        {
          "output_type": "stream",
          "text": [
            "Logistic Regression CV: 0.4961680268771126\n"
          ],
          "name": "stdout"
        }
      ]
    },
    {
      "cell_type": "code",
      "metadata": {
        "id": "e6AwzZO46Gon",
        "colab_type": "code",
        "colab": {
          "base_uri": "https://localhost:8080/",
          "height": 34
        },
        "outputId": "b2df6dfa-7551-456e-debd-1feebbb0f33b"
      },
      "source": [
        "dt = DecisionTreeClassifier()\n",
        "print(\"Decision Tree Classifier CV:\", roc_cv(dt, trainX, trainY))\n",
        "predictResults(\"DT\", dt)"
      ],
      "execution_count": 16,
      "outputs": [
        {
          "output_type": "stream",
          "text": [
            "Decision Tree Classifier CV: 0.6697723333276502\n"
          ],
          "name": "stdout"
        }
      ]
    },
    {
      "cell_type": "code",
      "metadata": {
        "id": "KuTsE3VYcreW",
        "colab_type": "code",
        "colab": {
          "base_uri": "https://localhost:8080/",
          "height": 105
        },
        "outputId": "8795c096-2f5d-4225-9482-9c4d8f33b254"
      },
      "source": [
        "SVM = SVC(probability = True)\n",
        "print(\"SVC CV:\", roc_cv(SVM, trainX, trainY))\n",
        "predictResults(\"SVC\", SVM)"
      ],
      "execution_count": 48,
      "outputs": [
        {
          "output_type": "stream",
          "text": [
            "0.5250014049990182\n"
          ],
          "name": "stdout"
        },
        {
          "output_type": "execute_result",
          "data": {
            "text/plain": [
              "SVC(C=1.0, break_ties=False, cache_size=200, class_weight=None, coef0=0.0,\n",
              "    decision_function_shape='ovr', degree=3, gamma='scale', kernel='rbf',\n",
              "    max_iter=-1, probability=True, random_state=None, shrinking=True, tol=0.001,\n",
              "    verbose=False)"
            ]
          },
          "metadata": {
            "tags": []
          },
          "execution_count": 48
        }
      ]
    },
    {
      "cell_type": "code",
      "metadata": {
        "id": "mvacf-HAdugO",
        "colab_type": "code",
        "colab": {
          "base_uri": "https://localhost:8080/",
          "height": 70
        },
        "outputId": "6a3dd26e-ed9f-4834-e76c-ed61e1097e85"
      },
      "source": [
        "LDA = LinearDiscriminantAnalysis()\n",
        "print(\"Linear Discriminent Analysis CV:\", roc_cv(LDA, trainX, trainY))\n",
        "predictResults(\"LDA\", LDA)"
      ],
      "execution_count": 53,
      "outputs": [
        {
          "output_type": "stream",
          "text": [
            "0.5388893751132682\n"
          ],
          "name": "stdout"
        },
        {
          "output_type": "execute_result",
          "data": {
            "text/plain": [
              "LinearDiscriminantAnalysis(n_components=None, priors=None, shrinkage=None,\n",
              "                           solver='svd', store_covariance=False, tol=0.0001)"
            ]
          },
          "metadata": {
            "tags": []
          },
          "execution_count": 53
        }
      ]
    },
    {
      "cell_type": "code",
      "metadata": {
        "id": "9UKlvTrueb0G",
        "colab_type": "code",
        "colab": {
          "base_uri": "https://localhost:8080/",
          "height": 70
        },
        "outputId": "f11987f4-a351-4b1a-96a6-dd8056cac58d"
      },
      "source": [
        "QDA = QuadraticDiscriminantAnalysis()\n",
        "print(\"Quadratic Discriminant Analysis CV:\", roc_cv(QDA, trainX, trainY))\n",
        "predictResults(\"QDA\", QDA)"
      ],
      "execution_count": 56,
      "outputs": [
        {
          "output_type": "stream",
          "text": [
            "0.5407467847172551\n"
          ],
          "name": "stdout"
        },
        {
          "output_type": "execute_result",
          "data": {
            "text/plain": [
              "QuadraticDiscriminantAnalysis(priors=None, reg_param=0.0,\n",
              "                              store_covariance=False, tol=0.0001)"
            ]
          },
          "metadata": {
            "tags": []
          },
          "execution_count": 56
        }
      ]
    },
    {
      "cell_type": "code",
      "metadata": {
        "id": "zrDQGpTQe_md",
        "colab_type": "code",
        "colab": {
          "base_uri": "https://localhost:8080/",
          "height": 175
        },
        "outputId": "19b8f9d1-816d-474b-82b9-a28245c6d98c"
      },
      "source": [
        "rf = RandomForestClassifier()\n",
        "print(\"Random Forest CV:\", roc_cv(rf, trainX, trainY))\n",
        "predictResults(\"RF\", rf)"
      ],
      "execution_count": 59,
      "outputs": [
        {
          "output_type": "stream",
          "text": [
            "0.8555489225168526\n"
          ],
          "name": "stdout"
        },
        {
          "output_type": "execute_result",
          "data": {
            "text/plain": [
              "RandomForestClassifier(bootstrap=True, ccp_alpha=0.0, class_weight=None,\n",
              "                       criterion='gini', max_depth=None, max_features='auto',\n",
              "                       max_leaf_nodes=None, max_samples=None,\n",
              "                       min_impurity_decrease=0.0, min_impurity_split=None,\n",
              "                       min_samples_leaf=1, min_samples_split=2,\n",
              "                       min_weight_fraction_leaf=0.0, n_estimators=100,\n",
              "                       n_jobs=None, oob_score=False, random_state=None,\n",
              "                       verbose=0, warm_start=False)"
            ]
          },
          "metadata": {
            "tags": []
          },
          "execution_count": 59
        }
      ]
    },
    {
      "cell_type": "code",
      "metadata": {
        "id": "6GwSJFgKfef1",
        "colab_type": "code",
        "colab": {
          "base_uri": "https://localhost:8080/",
          "height": 87
        },
        "outputId": "ad2ed6a9-ebf8-43bb-b4e5-3cdeb58a6b5d"
      },
      "source": [
        "KNN = KNeighborsClassifier()\n",
        "print(\"KNN CV:\", roc_cv(KNN, trainX, trainY))\n",
        "predictResults(\"KNN\", KNN)"
      ],
      "execution_count": 64,
      "outputs": [
        {
          "output_type": "stream",
          "text": [
            "0.6372843655768655\n"
          ],
          "name": "stdout"
        },
        {
          "output_type": "execute_result",
          "data": {
            "text/plain": [
              "KNeighborsClassifier(algorithm='auto', leaf_size=30, metric='minkowski',\n",
              "                     metric_params=None, n_jobs=None, n_neighbors=5, p=2,\n",
              "                     weights='uniform')"
            ]
          },
          "metadata": {
            "tags": []
          },
          "execution_count": 64
        }
      ]
    },
    {
      "cell_type": "code",
      "metadata": {
        "id": "GswJKzA1g0xh",
        "colab_type": "code",
        "colab": {
          "base_uri": "https://localhost:8080/",
          "height": 52
        },
        "outputId": "e490dcce-00cd-48e3-cf32-d5e80b36edc3"
      },
      "source": [
        "NB = GaussianNB()\n",
        "print(\"NB CV:\", roc_cv(NB, trainX, trainY))\n",
        "predictResults(\"NB CV:\", NB)"
      ],
      "execution_count": 69,
      "outputs": [
        {
          "output_type": "stream",
          "text": [
            "0.56185708485301\n"
          ],
          "name": "stdout"
        },
        {
          "output_type": "execute_result",
          "data": {
            "text/plain": [
              "GaussianNB(priors=None, var_smoothing=1e-09)"
            ]
          },
          "metadata": {
            "tags": []
          },
          "execution_count": 69
        }
      ]
    },
    {
      "cell_type": "code",
      "metadata": {
        "id": "BoyNRyH7iFiW",
        "colab_type": "code",
        "colab": {
          "base_uri": "https://localhost:8080/",
          "height": 158
        },
        "outputId": "251e85b9-76a2-4e44-8ffe-a9dfceefa8ea"
      },
      "source": [
        "XGB = XGBClassifier()\n",
        "print(\"XGBoost CV:\", roc_cv(XGB, trainX, trainY))\n",
        "predictResults(\"XGB\", XGB)"
      ],
      "execution_count": 80,
      "outputs": [
        {
          "output_type": "stream",
          "text": [
            "0.8442619280808291\n"
          ],
          "name": "stdout"
        },
        {
          "output_type": "execute_result",
          "data": {
            "text/plain": [
              "XGBClassifier(base_score=0.5, booster='gbtree', colsample_bylevel=1,\n",
              "              colsample_bynode=1, colsample_bytree=1, gamma=0,\n",
              "              learning_rate=0.1, max_delta_step=0, max_depth=3,\n",
              "              min_child_weight=1, missing=None, n_estimators=100, n_jobs=1,\n",
              "              nthread=None, objective='binary:logistic', random_state=0,\n",
              "              reg_alpha=0, reg_lambda=1, scale_pos_weight=1, seed=None,\n",
              "              silent=None, subsample=1, verbosity=1)"
            ]
          },
          "metadata": {
            "tags": []
          },
          "execution_count": 80
        }
      ]
    },
    {
      "cell_type": "code",
      "metadata": {
        "id": "9C9T6ie2lC3t",
        "colab_type": "code",
        "colab": {}
      },
      "source": [
        ""
      ],
      "execution_count": 0,
      "outputs": []
    }
  ]
}