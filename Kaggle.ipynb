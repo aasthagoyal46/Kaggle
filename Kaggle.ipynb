{
  "nbformat": 4,
  "nbformat_minor": 0,
  "metadata": {
    "colab": {
      "name": "Kaggle.ipynb",
      "provenance": [],
      "collapsed_sections": [],
      "authorship_tag": "ABX9TyM+DHwwY91MUWuMiGYo766L",
      "include_colab_link": true
    },
    "kernelspec": {
      "name": "python3",
      "display_name": "Python 3"
    }
  },
  "cells": [
    {
      "cell_type": "markdown",
      "metadata": {
        "id": "view-in-github",
        "colab_type": "text"
      },
      "source": [
        "<a href=\"https://colab.research.google.com/github/aasthagoyal46/Kaggle/blob/master/Kaggle.ipynb\" target=\"_parent\"><img src=\"https://colab.research.google.com/assets/colab-badge.svg\" alt=\"Open In Colab\"/></a>"
      ]
    },
    {
      "cell_type": "code",
      "metadata": {
        "id": "rgt_9pG_9Tnh",
        "colab_type": "code",
        "colab": {}
      },
      "source": [
        "import pandas as pd\n",
        "import numpy as np\n",
        "\n",
        "import seaborn as sns\n",
        "import matplotlib.pyplot as plt\n",
        "\n",
        "from scipy import interp\n",
        "from sklearn.linear_model import LogisticRegression\n",
        "from sklearn.tree import DecisionTreeClassifier\n",
        "from sklearn.svm import SVC\n",
        "from sklearn.ensemble import RandomForestClassifier\n",
        "from sklearn.discriminant_analysis import LinearDiscriminantAnalysis, QuadraticDiscriminantAnalysis\n",
        "from sklearn.neighbors import KNeighborsClassifier\n",
        "from sklearn.naive_bayes import GaussianNB\n",
        "from xgboost import XGBClassifier\n",
        "\n",
        "from sklearn.model_selection import cross_validate\n",
        "# from sklearn.model_selection import StratifiedKFold\n",
        "from bayes_opt import BayesianOptimization\n",
        "# from skopt import BayesSearchCV\n",
        "\n",
        "import warnings\n",
        "warnings.simplefilter(action='ignore', category=FutureWarning)\n",
        "\n",
        "from google.colab import files"
      ],
      "execution_count": 0,
      "outputs": []
    },
    {
      "cell_type": "code",
      "metadata": {
        "id": "NbNCpND6WtVs",
        "colab_type": "code",
        "outputId": "7868fc1a-7f16-4382-e4a7-4ec36655d590",
        "colab": {
          "base_uri": "https://localhost:8080/",
          "height": 105
        }
      },
      "source": [
        "pip install bayesian-optimization"
      ],
      "execution_count": 26,
      "outputs": [
        {
          "output_type": "stream",
          "text": [
            "Requirement already satisfied: bayesian-optimization in /usr/local/lib/python3.6/dist-packages (1.1.0)\n",
            "Requirement already satisfied: numpy>=1.9.0 in /usr/local/lib/python3.6/dist-packages (from bayesian-optimization) (1.17.5)\n",
            "Requirement already satisfied: scikit-learn>=0.18.0 in /usr/local/lib/python3.6/dist-packages (from bayesian-optimization) (0.22.1)\n",
            "Requirement already satisfied: scipy>=0.14.0 in /usr/local/lib/python3.6/dist-packages (from bayesian-optimization) (1.4.1)\n",
            "Requirement already satisfied: joblib>=0.11 in /usr/local/lib/python3.6/dist-packages (from scikit-learn>=0.18.0->bayesian-optimization) (0.14.1)\n"
          ],
          "name": "stdout"
        }
      ]
    },
    {
      "cell_type": "code",
      "metadata": {
        "id": "SzC4BAEfw5qA",
        "colab_type": "code",
        "colab": {}
      },
      "source": [
        "train_url = \"https://raw.githubusercontent.com/aasthagoyal46/Kaggle/master/train_final.csv\"\n",
        "test_url = \"https://raw.githubusercontent.com/aasthagoyal46/Kaggle/master/test_final.csv\"\n",
        "\n",
        "train = pd.read_csv(train_url)\n",
        "test = pd.read_csv(test_url)"
      ],
      "execution_count": 0,
      "outputs": []
    },
    {
      "cell_type": "code",
      "metadata": {
        "id": "YVIOFVYO_zgw",
        "colab_type": "code",
        "outputId": "049a0db0-aaee-4583-d8b7-7f9c3b7dfe0c",
        "colab": {
          "base_uri": "https://localhost:8080/",
          "height": 34
        }
      },
      "source": [
        "train.shape"
      ],
      "execution_count": 29,
      "outputs": [
        {
          "output_type": "execute_result",
          "data": {
            "text/plain": [
              "(16383, 26)"
            ]
          },
          "metadata": {
            "tags": []
          },
          "execution_count": 29
        }
      ]
    },
    {
      "cell_type": "code",
      "metadata": {
        "id": "rlbgL1zOxBtz",
        "colab_type": "code",
        "outputId": "66e8c5cb-adbd-44bd-9171-1c31c3a28c32",
        "colab": {
          "base_uri": "https://localhost:8080/",
          "height": 195
        }
      },
      "source": [
        "train.head()"
      ],
      "execution_count": 0,
      "outputs": [
        {
          "output_type": "execute_result",
          "data": {
            "text/html": [
              "<div>\n",
              "<style scoped>\n",
              "    .dataframe tbody tr th:only-of-type {\n",
              "        vertical-align: middle;\n",
              "    }\n",
              "\n",
              "    .dataframe tbody tr th {\n",
              "        vertical-align: top;\n",
              "    }\n",
              "\n",
              "    .dataframe thead th {\n",
              "        text-align: right;\n",
              "    }\n",
              "</style>\n",
              "<table border=\"1\" class=\"dataframe\">\n",
              "  <thead>\n",
              "    <tr style=\"text-align: right;\">\n",
              "      <th></th>\n",
              "      <th>Id</th>\n",
              "      <th>Y</th>\n",
              "      <th>f1</th>\n",
              "      <th>f2</th>\n",
              "      <th>f3</th>\n",
              "      <th>f4</th>\n",
              "      <th>f5</th>\n",
              "      <th>f6</th>\n",
              "      <th>f7</th>\n",
              "      <th>f8</th>\n",
              "      <th>f9</th>\n",
              "      <th>f10</th>\n",
              "      <th>f11</th>\n",
              "      <th>f12</th>\n",
              "      <th>f13</th>\n",
              "      <th>f14</th>\n",
              "      <th>f15</th>\n",
              "      <th>f16</th>\n",
              "      <th>f17</th>\n",
              "      <th>f18</th>\n",
              "      <th>f19</th>\n",
              "      <th>f20</th>\n",
              "      <th>f21</th>\n",
              "      <th>f22</th>\n",
              "      <th>f23</th>\n",
              "      <th>f24</th>\n",
              "    </tr>\n",
              "  </thead>\n",
              "  <tbody>\n",
              "    <tr>\n",
              "      <th>0</th>\n",
              "      <td>1</td>\n",
              "      <td>1</td>\n",
              "      <td>25884</td>\n",
              "      <td>1</td>\n",
              "      <td>33.63</td>\n",
              "      <td>118596</td>\n",
              "      <td>1</td>\n",
              "      <td>0</td>\n",
              "      <td>118595</td>\n",
              "      <td>125738</td>\n",
              "      <td>1</td>\n",
              "      <td>3</td>\n",
              "      <td>1</td>\n",
              "      <td>2</td>\n",
              "      <td>121374</td>\n",
              "      <td>-2.266430</td>\n",
              "      <td>1945</td>\n",
              "      <td>118450</td>\n",
              "      <td>119184</td>\n",
              "      <td>1</td>\n",
              "      <td>121372</td>\n",
              "      <td>1</td>\n",
              "      <td>1</td>\n",
              "      <td>1</td>\n",
              "      <td>2</td>\n",
              "      <td>1</td>\n",
              "    </tr>\n",
              "    <tr>\n",
              "      <th>1</th>\n",
              "      <td>2</td>\n",
              "      <td>1</td>\n",
              "      <td>34346</td>\n",
              "      <td>1</td>\n",
              "      <td>10.62</td>\n",
              "      <td>118041</td>\n",
              "      <td>1</td>\n",
              "      <td>0</td>\n",
              "      <td>117902</td>\n",
              "      <td>130913</td>\n",
              "      <td>1</td>\n",
              "      <td>1</td>\n",
              "      <td>1</td>\n",
              "      <td>23</td>\n",
              "      <td>118943</td>\n",
              "      <td>-0.305612</td>\n",
              "      <td>15385</td>\n",
              "      <td>117945</td>\n",
              "      <td>292795</td>\n",
              "      <td>1</td>\n",
              "      <td>259173</td>\n",
              "      <td>1</td>\n",
              "      <td>1</td>\n",
              "      <td>1</td>\n",
              "      <td>1</td>\n",
              "      <td>1</td>\n",
              "    </tr>\n",
              "    <tr>\n",
              "      <th>2</th>\n",
              "      <td>3</td>\n",
              "      <td>1</td>\n",
              "      <td>34923</td>\n",
              "      <td>1</td>\n",
              "      <td>1.77</td>\n",
              "      <td>118327</td>\n",
              "      <td>1</td>\n",
              "      <td>0</td>\n",
              "      <td>117961</td>\n",
              "      <td>124402</td>\n",
              "      <td>1</td>\n",
              "      <td>2</td>\n",
              "      <td>1</td>\n",
              "      <td>1</td>\n",
              "      <td>118786</td>\n",
              "      <td>2.015561</td>\n",
              "      <td>7547</td>\n",
              "      <td>118933</td>\n",
              "      <td>290919</td>\n",
              "      <td>1</td>\n",
              "      <td>118784</td>\n",
              "      <td>1</td>\n",
              "      <td>1</td>\n",
              "      <td>1</td>\n",
              "      <td>1</td>\n",
              "      <td>1</td>\n",
              "    </tr>\n",
              "    <tr>\n",
              "      <th>3</th>\n",
              "      <td>4</td>\n",
              "      <td>1</td>\n",
              "      <td>80926</td>\n",
              "      <td>1</td>\n",
              "      <td>30.09</td>\n",
              "      <td>118300</td>\n",
              "      <td>1</td>\n",
              "      <td>0</td>\n",
              "      <td>117961</td>\n",
              "      <td>301218</td>\n",
              "      <td>1</td>\n",
              "      <td>0</td>\n",
              "      <td>1</td>\n",
              "      <td>1</td>\n",
              "      <td>118332</td>\n",
              "      <td>-3.172501</td>\n",
              "      <td>4933</td>\n",
              "      <td>118458</td>\n",
              "      <td>118331</td>\n",
              "      <td>1</td>\n",
              "      <td>307024</td>\n",
              "      <td>1</td>\n",
              "      <td>1</td>\n",
              "      <td>1</td>\n",
              "      <td>2</td>\n",
              "      <td>1</td>\n",
              "    </tr>\n",
              "    <tr>\n",
              "      <th>4</th>\n",
              "      <td>5</td>\n",
              "      <td>1</td>\n",
              "      <td>4674</td>\n",
              "      <td>1</td>\n",
              "      <td>1.77</td>\n",
              "      <td>119921</td>\n",
              "      <td>1</td>\n",
              "      <td>0</td>\n",
              "      <td>119920</td>\n",
              "      <td>302830</td>\n",
              "      <td>1</td>\n",
              "      <td>0</td>\n",
              "      <td>1</td>\n",
              "      <td>2</td>\n",
              "      <td>128231</td>\n",
              "      <td>0.573767</td>\n",
              "      <td>13836</td>\n",
              "      <td>142145</td>\n",
              "      <td>4673</td>\n",
              "      <td>1</td>\n",
              "      <td>128230</td>\n",
              "      <td>1</td>\n",
              "      <td>1</td>\n",
              "      <td>1</td>\n",
              "      <td>620</td>\n",
              "      <td>1</td>\n",
              "    </tr>\n",
              "  </tbody>\n",
              "</table>\n",
              "</div>"
            ],
            "text/plain": [
              "   Id  Y     f1  f2     f3      f4  f5  ...  f18     f19  f20  f21  f22  f23  f24\n",
              "0   1  1  25884   1  33.63  118596   1  ...    1  121372    1    1    1    2    1\n",
              "1   2  1  34346   1  10.62  118041   1  ...    1  259173    1    1    1    1    1\n",
              "2   3  1  34923   1   1.77  118327   1  ...    1  118784    1    1    1    1    1\n",
              "3   4  1  80926   1  30.09  118300   1  ...    1  307024    1    1    1    2    1\n",
              "4   5  1   4674   1   1.77  119921   1  ...    1  128230    1    1    1  620    1\n",
              "\n",
              "[5 rows x 26 columns]"
            ]
          },
          "metadata": {
            "tags": []
          },
          "execution_count": 4
        }
      ]
    },
    {
      "cell_type": "code",
      "metadata": {
        "id": "zz95in1BxNQB",
        "colab_type": "code",
        "outputId": "4cd99955-da26-4d4f-9950-91e2cddc2219",
        "colab": {
          "base_uri": "https://localhost:8080/",
          "height": 304
        }
      },
      "source": [
        "train.describe()"
      ],
      "execution_count": 0,
      "outputs": [
        {
          "output_type": "execute_result",
          "data": {
            "text/html": [
              "<div>\n",
              "<style scoped>\n",
              "    .dataframe tbody tr th:only-of-type {\n",
              "        vertical-align: middle;\n",
              "    }\n",
              "\n",
              "    .dataframe tbody tr th {\n",
              "        vertical-align: top;\n",
              "    }\n",
              "\n",
              "    .dataframe thead th {\n",
              "        text-align: right;\n",
              "    }\n",
              "</style>\n",
              "<table border=\"1\" class=\"dataframe\">\n",
              "  <thead>\n",
              "    <tr style=\"text-align: right;\">\n",
              "      <th></th>\n",
              "      <th>Id</th>\n",
              "      <th>Y</th>\n",
              "      <th>f1</th>\n",
              "      <th>f2</th>\n",
              "      <th>f3</th>\n",
              "      <th>f4</th>\n",
              "      <th>f5</th>\n",
              "      <th>f6</th>\n",
              "      <th>f7</th>\n",
              "      <th>f8</th>\n",
              "      <th>f9</th>\n",
              "      <th>f10</th>\n",
              "      <th>f11</th>\n",
              "      <th>f12</th>\n",
              "      <th>f13</th>\n",
              "      <th>f14</th>\n",
              "      <th>f15</th>\n",
              "      <th>f16</th>\n",
              "      <th>f17</th>\n",
              "      <th>f18</th>\n",
              "      <th>f19</th>\n",
              "      <th>f20</th>\n",
              "      <th>f21</th>\n",
              "      <th>f22</th>\n",
              "      <th>f23</th>\n",
              "      <th>f24</th>\n",
              "    </tr>\n",
              "  </thead>\n",
              "  <tbody>\n",
              "    <tr>\n",
              "      <th>count</th>\n",
              "      <td>16383.000000</td>\n",
              "      <td>16383.000000</td>\n",
              "      <td>16383.000000</td>\n",
              "      <td>16383.000000</td>\n",
              "      <td>16383.000000</td>\n",
              "      <td>16383.000000</td>\n",
              "      <td>16383.000000</td>\n",
              "      <td>16383.000000</td>\n",
              "      <td>16383.000000</td>\n",
              "      <td>16383.000000</td>\n",
              "      <td>16383.000000</td>\n",
              "      <td>16383.000000</td>\n",
              "      <td>16383.000000</td>\n",
              "      <td>16383.000000</td>\n",
              "      <td>16383.000000</td>\n",
              "      <td>16383.000000</td>\n",
              "      <td>16383.000000</td>\n",
              "      <td>16383.000000</td>\n",
              "      <td>16383.000000</td>\n",
              "      <td>16383.000000</td>\n",
              "      <td>16383.000000</td>\n",
              "      <td>16383.000000</td>\n",
              "      <td>16383.000000</td>\n",
              "      <td>16383.000000</td>\n",
              "      <td>1.638300e+04</td>\n",
              "      <td>16383.000000</td>\n",
              "    </tr>\n",
              "    <tr>\n",
              "      <th>mean</th>\n",
              "      <td>8192.000000</td>\n",
              "      <td>0.942135</td>\n",
              "      <td>43007.775865</td>\n",
              "      <td>1.044375</td>\n",
              "      <td>11.770938</td>\n",
              "      <td>118323.581456</td>\n",
              "      <td>1.044436</td>\n",
              "      <td>0.050052</td>\n",
              "      <td>117089.674113</td>\n",
              "      <td>169730.178600</td>\n",
              "      <td>1.041812</td>\n",
              "      <td>4.976317</td>\n",
              "      <td>1.042483</td>\n",
              "      <td>6.378380</td>\n",
              "      <td>119774.307941</td>\n",
              "      <td>0.293940</td>\n",
              "      <td>25894.316914</td>\n",
              "      <td>119045.099005</td>\n",
              "      <td>184622.040835</td>\n",
              "      <td>1.047305</td>\n",
              "      <td>125959.667765</td>\n",
              "      <td>1.044558</td>\n",
              "      <td>1.045718</td>\n",
              "      <td>1.041934</td>\n",
              "      <td>3.271890e+04</td>\n",
              "      <td>1.043948</td>\n",
              "    </tr>\n",
              "    <tr>\n",
              "      <th>std</th>\n",
              "      <td>4729.509065</td>\n",
              "      <td>0.233495</td>\n",
              "      <td>33611.182771</td>\n",
              "      <td>0.264806</td>\n",
              "      <td>353.187115</td>\n",
              "      <td>4518.059755</td>\n",
              "      <td>0.265601</td>\n",
              "      <td>0.293892</td>\n",
              "      <td>10261.292970</td>\n",
              "      <td>69396.677853</td>\n",
              "      <td>0.258226</td>\n",
              "      <td>65.629620</td>\n",
              "      <td>0.254664</td>\n",
              "      <td>108.216528</td>\n",
              "      <td>5609.093416</td>\n",
              "      <td>1.728999</td>\n",
              "      <td>36086.993946</td>\n",
              "      <td>18321.987129</td>\n",
              "      <td>100590.811845</td>\n",
              "      <td>0.306239</td>\n",
              "      <td>31091.344158</td>\n",
              "      <td>0.262576</td>\n",
              "      <td>0.266874</td>\n",
              "      <td>0.246597</td>\n",
              "      <td>3.184929e+06</td>\n",
              "      <td>0.259640</td>\n",
              "    </tr>\n",
              "    <tr>\n",
              "      <th>min</th>\n",
              "      <td>1.000000</td>\n",
              "      <td>0.000000</td>\n",
              "      <td>-1.000000</td>\n",
              "      <td>1.000000</td>\n",
              "      <td>1.770000</td>\n",
              "      <td>23779.000000</td>\n",
              "      <td>1.000000</td>\n",
              "      <td>0.000000</td>\n",
              "      <td>4292.000000</td>\n",
              "      <td>4673.000000</td>\n",
              "      <td>1.000000</td>\n",
              "      <td>0.000000</td>\n",
              "      <td>1.000000</td>\n",
              "      <td>1.000000</td>\n",
              "      <td>117880.000000</td>\n",
              "      <td>-7.446045</td>\n",
              "      <td>25.000000</td>\n",
              "      <td>4674.000000</td>\n",
              "      <td>3130.000000</td>\n",
              "      <td>1.000000</td>\n",
              "      <td>117879.000000</td>\n",
              "      <td>1.000000</td>\n",
              "      <td>1.000000</td>\n",
              "      <td>1.000000</td>\n",
              "      <td>1.000000e+00</td>\n",
              "      <td>1.000000</td>\n",
              "    </tr>\n",
              "    <tr>\n",
              "      <th>25%</th>\n",
              "      <td>4096.500000</td>\n",
              "      <td>1.000000</td>\n",
              "      <td>20311.000000</td>\n",
              "      <td>1.000000</td>\n",
              "      <td>1.770000</td>\n",
              "      <td>118096.000000</td>\n",
              "      <td>1.000000</td>\n",
              "      <td>0.000000</td>\n",
              "      <td>117961.000000</td>\n",
              "      <td>117906.000000</td>\n",
              "      <td>1.000000</td>\n",
              "      <td>0.000000</td>\n",
              "      <td>1.000000</td>\n",
              "      <td>1.000000</td>\n",
              "      <td>118232.000000</td>\n",
              "      <td>-0.704562</td>\n",
              "      <td>4554.000000</td>\n",
              "      <td>118395.000000</td>\n",
              "      <td>118398.000000</td>\n",
              "      <td>1.000000</td>\n",
              "      <td>118274.000000</td>\n",
              "      <td>1.000000</td>\n",
              "      <td>1.000000</td>\n",
              "      <td>1.000000</td>\n",
              "      <td>1.000000e+00</td>\n",
              "      <td>1.000000</td>\n",
              "    </tr>\n",
              "    <tr>\n",
              "      <th>50%</th>\n",
              "      <td>8192.000000</td>\n",
              "      <td>1.000000</td>\n",
              "      <td>35527.000000</td>\n",
              "      <td>1.000000</td>\n",
              "      <td>1.770000</td>\n",
              "      <td>118300.000000</td>\n",
              "      <td>1.000000</td>\n",
              "      <td>0.000000</td>\n",
              "      <td>117961.000000</td>\n",
              "      <td>128130.000000</td>\n",
              "      <td>1.000000</td>\n",
              "      <td>0.000000</td>\n",
              "      <td>1.000000</td>\n",
              "      <td>1.000000</td>\n",
              "      <td>118565.000000</td>\n",
              "      <td>1.000000</td>\n",
              "      <td>13234.000000</td>\n",
              "      <td>118929.000000</td>\n",
              "      <td>119095.000000</td>\n",
              "      <td>1.000000</td>\n",
              "      <td>118568.000000</td>\n",
              "      <td>1.000000</td>\n",
              "      <td>1.000000</td>\n",
              "      <td>1.000000</td>\n",
              "      <td>2.000000e+00</td>\n",
              "      <td>1.000000</td>\n",
              "    </tr>\n",
              "    <tr>\n",
              "      <th>75%</th>\n",
              "      <td>12287.500000</td>\n",
              "      <td>1.000000</td>\n",
              "      <td>74240.500000</td>\n",
              "      <td>1.000000</td>\n",
              "      <td>3.540000</td>\n",
              "      <td>118386.000000</td>\n",
              "      <td>1.000000</td>\n",
              "      <td>0.000000</td>\n",
              "      <td>117961.000000</td>\n",
              "      <td>234498.500000</td>\n",
              "      <td>1.000000</td>\n",
              "      <td>1.000000</td>\n",
              "      <td>1.000000</td>\n",
              "      <td>2.000000</td>\n",
              "      <td>119348.000000</td>\n",
              "      <td>1.000000</td>\n",
              "      <td>38902.000000</td>\n",
              "      <td>120539.000000</td>\n",
              "      <td>290919.000000</td>\n",
              "      <td>1.000000</td>\n",
              "      <td>120006.000000</td>\n",
              "      <td>1.000000</td>\n",
              "      <td>1.000000</td>\n",
              "      <td>1.000000</td>\n",
              "      <td>9.000000e+00</td>\n",
              "      <td>1.000000</td>\n",
              "    </tr>\n",
              "    <tr>\n",
              "      <th>max</th>\n",
              "      <td>16383.000000</td>\n",
              "      <td>1.000000</td>\n",
              "      <td>312152.000000</td>\n",
              "      <td>7.000000</td>\n",
              "      <td>43910.160000</td>\n",
              "      <td>286791.000000</td>\n",
              "      <td>9.000000</td>\n",
              "      <td>10.000000</td>\n",
              "      <td>311178.000000</td>\n",
              "      <td>311867.000000</td>\n",
              "      <td>11.000000</td>\n",
              "      <td>5036.000000</td>\n",
              "      <td>8.000000</td>\n",
              "      <td>10076.000000</td>\n",
              "      <td>270691.000000</td>\n",
              "      <td>7.398682</td>\n",
              "      <td>311696.000000</td>\n",
              "      <td>286792.000000</td>\n",
              "      <td>308574.000000</td>\n",
              "      <td>18.000000</td>\n",
              "      <td>311867.000000</td>\n",
              "      <td>8.000000</td>\n",
              "      <td>8.000000</td>\n",
              "      <td>7.000000</td>\n",
              "      <td>4.042886e+08</td>\n",
              "      <td>8.000000</td>\n",
              "    </tr>\n",
              "  </tbody>\n",
              "</table>\n",
              "</div>"
            ],
            "text/plain": [
              "                 Id             Y  ...           f23           f24\n",
              "count  16383.000000  16383.000000  ...  1.638300e+04  16383.000000\n",
              "mean    8192.000000      0.942135  ...  3.271890e+04      1.043948\n",
              "std     4729.509065      0.233495  ...  3.184929e+06      0.259640\n",
              "min        1.000000      0.000000  ...  1.000000e+00      1.000000\n",
              "25%     4096.500000      1.000000  ...  1.000000e+00      1.000000\n",
              "50%     8192.000000      1.000000  ...  2.000000e+00      1.000000\n",
              "75%    12287.500000      1.000000  ...  9.000000e+00      1.000000\n",
              "max    16383.000000      1.000000  ...  4.042886e+08      8.000000\n",
              "\n",
              "[8 rows x 26 columns]"
            ]
          },
          "metadata": {
            "tags": []
          },
          "execution_count": 5
        }
      ]
    },
    {
      "cell_type": "code",
      "metadata": {
        "id": "IN0AsjCTxFO9",
        "colab_type": "code",
        "outputId": "a40b0b3e-384d-4502-8fac-0ae6c9943c4a",
        "colab": {
          "base_uri": "https://localhost:8080/",
          "height": 34
        }
      },
      "source": [
        "train.isnull().sum().sum()"
      ],
      "execution_count": 0,
      "outputs": [
        {
          "output_type": "execute_result",
          "data": {
            "text/plain": [
              "0"
            ]
          },
          "metadata": {
            "tags": []
          },
          "execution_count": 6
        }
      ]
    },
    {
      "cell_type": "code",
      "metadata": {
        "id": "0GTeP90b8W83",
        "colab_type": "code",
        "outputId": "adc0f269-afe1-4381-8215-ce89eefc9026",
        "colab": {
          "base_uri": "https://localhost:8080/",
          "height": 562
        }
      },
      "source": [
        "train.info()"
      ],
      "execution_count": 0,
      "outputs": [
        {
          "output_type": "stream",
          "text": [
            "<class 'pandas.core.frame.DataFrame'>\n",
            "RangeIndex: 16383 entries, 0 to 16382\n",
            "Data columns (total 26 columns):\n",
            "Id     16383 non-null int64\n",
            "Y      16383 non-null int64\n",
            "f1     16383 non-null int64\n",
            "f2     16383 non-null int64\n",
            "f3     16383 non-null float64\n",
            "f4     16383 non-null int64\n",
            "f5     16383 non-null int64\n",
            "f6     16383 non-null int64\n",
            "f7     16383 non-null int64\n",
            "f8     16383 non-null int64\n",
            "f9     16383 non-null int64\n",
            "f10    16383 non-null int64\n",
            "f11    16383 non-null int64\n",
            "f12    16383 non-null int64\n",
            "f13    16383 non-null int64\n",
            "f14    16383 non-null float64\n",
            "f15    16383 non-null int64\n",
            "f16    16383 non-null int64\n",
            "f17    16383 non-null int64\n",
            "f18    16383 non-null int64\n",
            "f19    16383 non-null int64\n",
            "f20    16383 non-null int64\n",
            "f21    16383 non-null int64\n",
            "f22    16383 non-null int64\n",
            "f23    16383 non-null int64\n",
            "f24    16383 non-null int64\n",
            "dtypes: float64(2), int64(24)\n",
            "memory usage: 3.2 MB\n"
          ],
          "name": "stdout"
        }
      ]
    },
    {
      "cell_type": "code",
      "metadata": {
        "id": "p8Raj-2c-1cY",
        "colab_type": "code",
        "outputId": "2b5834f3-d125-4c46-970e-56b786313555",
        "colab": {
          "base_uri": "https://localhost:8080/",
          "height": 286
        }
      },
      "source": [
        "sns.heatmap(train.corr())"
      ],
      "execution_count": 0,
      "outputs": [
        {
          "output_type": "execute_result",
          "data": {
            "text/plain": [
              "<matplotlib.axes._subplots.AxesSubplot at 0x7f15510c6e10>"
            ]
          },
          "metadata": {
            "tags": []
          },
          "execution_count": 8
        },
        {
          "output_type": "display_data",
          "data": {
            "image/png": "[encoded data removed]",
            "text/plain": [
              "<Figure size 432x288 with 2 Axes>"
            ]
          },
          "metadata": {
            "tags": []
          }
        }
      ]
    },
    {
      "cell_type": "code",
      "metadata": {
        "id": "eAixtMe24G6J",
        "colab_type": "code",
        "colab": {}
      },
      "source": [
        "trainX = train.iloc[:, 2:]\n",
        "trainY = train.iloc[:, 1]\n",
        "testX = test.iloc[:, 1:]"
      ],
      "execution_count": 0,
      "outputs": []
    },
    {
      "cell_type": "code",
      "metadata": {
        "id": "Ala2XQYTxu_c",
        "colab_type": "code",
        "outputId": "0c8c8d09-f98c-41f1-d76a-59507f931261",
        "colab": {
          "base_uri": "https://localhost:8080/",
          "height": 285
        }
      },
      "source": [
        "trainY.hist()"
      ],
      "execution_count": 0,
      "outputs": [
        {
          "output_type": "execute_result",
          "data": {
            "text/plain": [
              "<matplotlib.axes._subplots.AxesSubplot at 0x7fe135fa8fd0>"
            ]
          },
          "metadata": {
            "tags": []
          },
          "execution_count": 17
        },
        {
          "output_type": "display_data",
          "data": {
            "image/png": "[encoded data removed]",
            "text/plain": [
              "<Figure size 432x288 with 1 Axes>"
            ]
          },
          "metadata": {
            "tags": []
          }
        }
      ]
    },
    {
      "cell_type": "code",
      "metadata": {
        "id": "X-j1OSstGtMb",
        "colab_type": "code",
        "colab": {}
      },
      "source": [
        "def roc_cv(model, x, y):\n",
        "  roc = cross_validate(model, x, y, scoring=\"roc_auc\", cv = 5)\n",
        "  return(roc['test_score'].mean())"
      ],
      "execution_count": 0,
      "outputs": []
    },
    {
      "cell_type": "code",
      "metadata": {
        "id": "pa1atQn9BeLN",
        "colab_type": "code",
        "colab": {}
      },
      "source": [
        "def predictResults(name, model):\n",
        "  model.fit(trainX, trainY)\n",
        "  pred = model.predict(testX)\n",
        "  result = pd.DataFrame({\"Id\": test[\"Id\"], 'Y':pred})\n",
        "  result.to_csv('result'+name+'.csv', index = False)\n",
        "  files.download('result'+name+'.csv')"
      ],
      "execution_count": 0,
      "outputs": []
    },
    {
      "cell_type": "code",
      "metadata": {
        "id": "MWdaiwC8nTlP",
        "colab_type": "code",
        "colab": {}
      },
      "source": [
        "def predictProb(name, model):\n",
        "  model.fit(trainX, trainY)\n",
        "  pred = model.predict_proba(testX)[:, 1]\n",
        "  result = pd.DataFrame({\"Id\": test[\"Id\"], 'Y':pred})\n",
        "  result.to_csv('result'+name+'.csv', index = False)\n",
        "  files.download('result'+name+'.csv')"
      ],
      "execution_count": 0,
      "outputs": []
    },
    {
      "cell_type": "code",
      "metadata": {
        "id": "-1R6ADeZys4_",
        "colab_type": "code",
        "outputId": "752eb367-182e-4970-b03f-0ff3ede4f5e8",
        "colab": {
          "base_uri": "https://localhost:8080/",
          "height": 175
        }
      },
      "source": [
        "lr = LogisticRegression()\n",
        "print(\"Logistic Regression CV:\", roc_cv(lr, trainX, trainY))\n",
        "# predictResults(\"LR\", lr)\n",
        "predictProb(\"LR\", lr)"
      ],
      "execution_count": 0,
      "outputs": [
        {
          "output_type": "stream",
          "text": [
            "/usr/local/lib/python3.6/dist-packages/sklearn/linear_model/_logistic.py:940: ConvergenceWarning: lbfgs failed to converge (status=1):\n",
            "STOP: TOTAL NO. of ITERATIONS REACHED LIMIT.\n",
            "\n",
            "Increase the number of iterations (max_iter) or scale the data as shown in:\n",
            "    https://scikit-learn.org/stable/modules/preprocessing.html\n",
            "Please also refer to the documentation for alternative solver options:\n",
            "    https://scikit-learn.org/stable/modules/linear_model.html#logistic-regression\n",
            "  extra_warning_msg=_LOGISTIC_SOLVER_CONVERGENCE_MSG)\n"
          ],
          "name": "stderr"
        },
        {
          "output_type": "stream",
          "text": [
            "Logistic Regression CV: 0.4961680268771126\n"
          ],
          "name": "stdout"
        }
      ]
    },
    {
      "cell_type": "code",
      "metadata": {
        "id": "e6AwzZO46Gon",
        "colab_type": "code",
        "outputId": "6d0dbffe-c41c-4359-caa1-451bbb024d1a",
        "colab": {
          "base_uri": "https://localhost:8080/",
          "height": 34
        }
      },
      "source": [
        "dt = DecisionTreeClassifier()\n",
        "print(\"Decision Tree Classifier CV:\", roc_cv(dt, trainX, trainY))\n",
        "# predictResults(\"DT\", dt)\n",
        "predictProb(\"DT\", dt)"
      ],
      "execution_count": 0,
      "outputs": [
        {
          "output_type": "stream",
          "text": [
            "Decision Tree Classifier CV: 0.6699207201677664\n"
          ],
          "name": "stdout"
        }
      ]
    },
    {
      "cell_type": "code",
      "metadata": {
        "id": "KuTsE3VYcreW",
        "colab_type": "code",
        "outputId": "c8d44d50-8c4a-4f99-d98e-a6823de9a93e",
        "colab": {
          "base_uri": "https://localhost:8080/",
          "height": 34
        }
      },
      "source": [
        "SVM = SVC(probability = True)\n",
        "print(\"SVC CV:\", roc_cv(SVM, trainX, trainY))\n",
        "# predictResults(\"SVC\", SVM)\n",
        "predictProb(\"SVC\", SVM)"
      ],
      "execution_count": 0,
      "outputs": [
        {
          "output_type": "stream",
          "text": [
            "SVC CV: 0.5250014049990182\n"
          ],
          "name": "stdout"
        }
      ]
    },
    {
      "cell_type": "code",
      "metadata": {
        "id": "mvacf-HAdugO",
        "colab_type": "code",
        "outputId": "29715f9d-dcd0-4bd0-a8ec-ce49f1246384",
        "colab": {
          "base_uri": "https://localhost:8080/",
          "height": 34
        }
      },
      "source": [
        "LDA = LinearDiscriminantAnalysis()\n",
        "print(\"Linear Discriminent Analysis CV:\", roc_cv(LDA, trainX, trainY))\n",
        "# predictResults(\"LDA\", LDA)\n",
        "predictProb(\"LDA\", LDA)"
      ],
      "execution_count": 0,
      "outputs": [
        {
          "output_type": "stream",
          "text": [
            "Linear Discriminent Analysis CV: 0.5388893751132682\n"
          ],
          "name": "stdout"
        }
      ]
    },
    {
      "cell_type": "code",
      "metadata": {
        "id": "9UKlvTrueb0G",
        "colab_type": "code",
        "outputId": "a8bba08b-bbd8-4221-c6a8-3f52d5ddb436",
        "colab": {
          "base_uri": "https://localhost:8080/",
          "height": 34
        }
      },
      "source": [
        "QDA = QuadraticDiscriminantAnalysis()\n",
        "print(\"Quadratic Discriminant Analysis CV:\", roc_cv(QDA, trainX, trainY))\n",
        "# predictResults(\"QDA\", QDA)\n",
        "predictProb(\"QDA\", QDA)"
      ],
      "execution_count": 0,
      "outputs": [
        {
          "output_type": "stream",
          "text": [
            "Quadratic Discriminant Analysis CV: 0.5407467847172551\n"
          ],
          "name": "stdout"
        }
      ]
    },
    {
      "cell_type": "code",
      "metadata": {
        "id": "zrDQGpTQe_md",
        "colab_type": "code",
        "outputId": "a0a4bc4a-0d96-4bd1-fa16-34bf15ec3bf6",
        "colab": {
          "base_uri": "https://localhost:8080/",
          "height": 34
        }
      },
      "source": [
        "rf = RandomForestClassifier()\n",
        "print(\"Random Forest CV:\", roc_cv(rf, trainX, trainY))\n",
        "# predictResults(\"RF\", rf)\n",
        "predictProb(\"RF\", rf)"
      ],
      "execution_count": 0,
      "outputs": [
        {
          "output_type": "stream",
          "text": [
            "Random Forest CV: 0.8587284754375952\n"
          ],
          "name": "stdout"
        }
      ]
    },
    {
      "cell_type": "code",
      "metadata": {
        "id": "6GwSJFgKfef1",
        "colab_type": "code",
        "outputId": "4ccccf7e-dfe2-49cc-c9b7-99db67ebd66d",
        "colab": {
          "base_uri": "https://localhost:8080/",
          "height": 34
        }
      },
      "source": [
        "KNN = KNeighborsClassifier()\n",
        "print(\"KNN CV:\", roc_cv(KNN, trainX, trainY))\n",
        "# predictResults(\"KNN\", KNN)\n",
        "predictProb(\"KNN\", KNN)"
      ],
      "execution_count": 0,
      "outputs": [
        {
          "output_type": "stream",
          "text": [
            "KNN CV: 0.6372843655768655\n"
          ],
          "name": "stdout"
        }
      ]
    },
    {
      "cell_type": "code",
      "metadata": {
        "id": "GswJKzA1g0xh",
        "colab_type": "code",
        "outputId": "c02c81ef-c71f-4df5-bc89-5aa431607019",
        "colab": {
          "base_uri": "https://localhost:8080/",
          "height": 34
        }
      },
      "source": [
        "NB = GaussianNB()\n",
        "print(\"NB CV:\", roc_cv(NB, trainX, trainY))\n",
        "# predictResults(\"NB\", NB)\n",
        "predictProb(\"NB\", NB)"
      ],
      "execution_count": 0,
      "outputs": [
        {
          "output_type": "stream",
          "text": [
            "NB CV: 0.56185708485301\n"
          ],
          "name": "stdout"
        }
      ]
    },
    {
      "cell_type": "code",
      "metadata": {
        "id": "BoyNRyH7iFiW",
        "colab_type": "code",
        "outputId": "098a3ae3-48e7-4471-e31f-047fb89a30cb",
        "colab": {
          "base_uri": "https://localhost:8080/",
          "height": 34
        }
      },
      "source": [
        "XGB = XGBClassifier()\n",
        "print(\"XGBoost CV:\", roc_cv(XGB, trainX, trainY))\n",
        "# predictResults(\"XGB\", XGB)\n",
        "predictProb(\"XGB\", XGB)"
      ],
      "execution_count": 0,
      "outputs": [
        {
          "output_type": "stream",
          "text": [
            "XGBoost CV: 0.8442619280808291\n"
          ],
          "name": "stdout"
        }
      ]
    },
    {
      "cell_type": "code",
      "metadata": {
        "id": "9C9T6ie2lC3t",
        "colab_type": "code",
        "colab": {
          "base_uri": "https://localhost:8080/",
          "height": 238
        },
        "outputId": "899f0272-f2d0-490a-ebfd-1fa3e2ab994a"
      },
      "source": [
        "bayes_cv_tuner = BayesSearchCV(\n",
        "    estimator = XGBClassifier(\n",
        "        n_jobs = 1,\n",
        "        objective = 'binary:logistic',\n",
        "        eval_metric = 'auc',\n",
        "        silent=1,\n",
        "        tree_method='approx'\n",
        "    ),\n",
        "    search_spaces = {\n",
        "        'learning_rate': (0.01, 1.0, 'log-uniform'),\n",
        "        'min_child_weight': (0, 10),\n",
        "        'max_depth': (0, 50),\n",
        "        'max_delta_step': (0, 20),\n",
        "        'subsample': (0.01, 1.0, 'uniform'),\n",
        "        'colsample_bytree': (0.01, 1.0, 'uniform'),\n",
        "        'colsample_bylevel': (0.01, 1.0, 'uniform'),\n",
        "        'reg_lambda': (1e-9, 1000, 'log-uniform'),\n",
        "        'reg_alpha': (1e-9, 1.0, 'log-uniform'),\n",
        "        'gamma': (1e-9, 0.5, 'log-uniform'),\n",
        "        'min_child_weight': (0, 5),\n",
        "        'n_estimators': (50, 100),\n",
        "        'scale_pos_weight': (1e-6, 500, 'log-uniform')\n",
        "    },    \n",
        "    scoring = 'roc_auc',\n",
        "    cv = StratifiedKFold(\n",
        "        n_splits=5,\n",
        "        shuffle=True,\n",
        "        random_state=42\n",
        "    ),\n",
        "    n_jobs = 3,\n",
        "    n_iter = 10,   \n",
        "    verbose = 0,\n",
        "    refit = True,\n",
        "    random_state = 42\n",
        ")"
      ],
      "execution_count": 34,
      "outputs": [
        {
          "output_type": "error",
          "ename": "NameError",
          "evalue": "ignored",
          "traceback": [
            "\u001b[0;31m---------------------------------------------------------------------------\u001b[0m",
            "\u001b[0;31mNameError\u001b[0m                                 Traceback (most recent call last)",
            "\u001b[0;32m<ipython-input-34-c6ac3259e7ff>\u001b[0m in \u001b[0;36m<module>\u001b[0;34m()\u001b[0m\n\u001b[0;32m----> 1\u001b[0;31m bayes_cv_tuner = BayesSearchCV(\n\u001b[0m\u001b[1;32m      2\u001b[0m     estimator = XGBClassifier(\n\u001b[1;32m      3\u001b[0m         \u001b[0mn_jobs\u001b[0m \u001b[0;34m=\u001b[0m \u001b[0;36m1\u001b[0m\u001b[0;34m,\u001b[0m\u001b[0;34m\u001b[0m\u001b[0;34m\u001b[0m\u001b[0m\n\u001b[1;32m      4\u001b[0m         \u001b[0mobjective\u001b[0m \u001b[0;34m=\u001b[0m \u001b[0;34m'binary:logistic'\u001b[0m\u001b[0;34m,\u001b[0m\u001b[0;34m\u001b[0m\u001b[0;34m\u001b[0m\u001b[0m\n\u001b[1;32m      5\u001b[0m         \u001b[0meval_metric\u001b[0m \u001b[0;34m=\u001b[0m \u001b[0;34m'auc'\u001b[0m\u001b[0;34m,\u001b[0m\u001b[0;34m\u001b[0m\u001b[0;34m\u001b[0m\u001b[0m\n",
            "\u001b[0;31mNameError\u001b[0m: name 'BayesSearchCV' is not defined"
          ]
        }
      ]
    },
    {
      "cell_type": "code",
      "metadata": {
        "id": "9QjiCdvKqmkA",
        "colab_type": "code",
        "outputId": "bc6cae3f-11d0-4ed1-958a-19a8eb65f7c4",
        "colab": {
          "base_uri": "https://localhost:8080/",
          "height": 314
        }
      },
      "source": [
        "result = bayes_cv_tuner.fit(trainX, trainY)"
      ],
      "execution_count": 0,
      "outputs": [
        {
          "output_type": "error",
          "ename": "ValueError",
          "evalue": "ignored",
          "traceback": [
            "\u001b[0;31m---------------------------------------------------------------------------\u001b[0m",
            "\u001b[0;31mValueError\u001b[0m                                Traceback (most recent call last)",
            "\u001b[0;32m<ipython-input-14-e768ef54f30e>\u001b[0m in \u001b[0;36m<module>\u001b[0;34m()\u001b[0m\n\u001b[0;32m----> 1\u001b[0;31m \u001b[0mresult\u001b[0m \u001b[0;34m=\u001b[0m \u001b[0mbayes_cv_tuner\u001b[0m\u001b[0;34m.\u001b[0m\u001b[0mfit\u001b[0m\u001b[0;34m(\u001b[0m\u001b[0mtrainX\u001b[0m\u001b[0;34m,\u001b[0m \u001b[0mtrainY\u001b[0m\u001b[0;34m)\u001b[0m\u001b[0;34m\u001b[0m\u001b[0;34m\u001b[0m\u001b[0m\n\u001b[0m",
            "\u001b[0;32m/usr/local/lib/python3.6/dist-packages/skopt/searchcv.py\u001b[0m in \u001b[0;36mfit\u001b[0;34m(self, X, y, groups, callback)\u001b[0m\n\u001b[1;32m    678\u001b[0m                 optim_result = self._step(\n\u001b[1;32m    679\u001b[0m                     \u001b[0mX\u001b[0m\u001b[0;34m,\u001b[0m \u001b[0my\u001b[0m\u001b[0;34m,\u001b[0m \u001b[0msearch_space\u001b[0m\u001b[0;34m,\u001b[0m \u001b[0moptimizer\u001b[0m\u001b[0;34m,\u001b[0m\u001b[0;34m\u001b[0m\u001b[0;34m\u001b[0m\u001b[0m\n\u001b[0;32m--> 680\u001b[0;31m                     \u001b[0mgroups\u001b[0m\u001b[0;34m=\u001b[0m\u001b[0mgroups\u001b[0m\u001b[0;34m,\u001b[0m \u001b[0mn_points\u001b[0m\u001b[0;34m=\u001b[0m\u001b[0mn_points_adjusted\u001b[0m\u001b[0;34m\u001b[0m\u001b[0;34m\u001b[0m\u001b[0m\n\u001b[0m\u001b[1;32m    681\u001b[0m                 )\n\u001b[1;32m    682\u001b[0m                 \u001b[0mn_iter\u001b[0m \u001b[0;34m-=\u001b[0m \u001b[0mn_points\u001b[0m\u001b[0;34m\u001b[0m\u001b[0;34m\u001b[0m\u001b[0m\n",
            "\u001b[0;32m/usr/local/lib/python3.6/dist-packages/skopt/searchcv.py\u001b[0m in \u001b[0;36m_step\u001b[0;34m(self, X, y, search_space, optimizer, groups, n_points)\u001b[0m\n\u001b[1;32m    550\u001b[0m \u001b[0;34m\u001b[0m\u001b[0m\n\u001b[1;32m    551\u001b[0m         \u001b[0;31m# get parameter values to evaluate\u001b[0m\u001b[0;34m\u001b[0m\u001b[0;34m\u001b[0m\u001b[0;34m\u001b[0m\u001b[0m\n\u001b[0;32m--> 552\u001b[0;31m         \u001b[0mparams\u001b[0m \u001b[0;34m=\u001b[0m \u001b[0moptimizer\u001b[0m\u001b[0;34m.\u001b[0m\u001b[0mask\u001b[0m\u001b[0;34m(\u001b[0m\u001b[0mn_points\u001b[0m\u001b[0;34m=\u001b[0m\u001b[0mn_points\u001b[0m\u001b[0;34m)\u001b[0m\u001b[0;34m\u001b[0m\u001b[0;34m\u001b[0m\u001b[0m\n\u001b[0m\u001b[1;32m    553\u001b[0m \u001b[0;34m\u001b[0m\u001b[0m\n\u001b[1;32m    554\u001b[0m         \u001b[0;31m# convert parameters to python native types\u001b[0m\u001b[0;34m\u001b[0m\u001b[0;34m\u001b[0m\u001b[0;34m\u001b[0m\u001b[0m\n",
            "\u001b[0;32m/usr/local/lib/python3.6/dist-packages/skopt/optimizer/optimizer.py\u001b[0m in \u001b[0;36mask\u001b[0;34m(self, n_points, strategy)\u001b[0m\n\u001b[1;32m    380\u001b[0m                 \u001b[0mopt\u001b[0m\u001b[0;34m.\u001b[0m\u001b[0m_tell\u001b[0m\u001b[0;34m(\u001b[0m\u001b[0mx\u001b[0m\u001b[0;34m,\u001b[0m \u001b[0;34m(\u001b[0m\u001b[0my_lie\u001b[0m\u001b[0;34m,\u001b[0m \u001b[0mt_lie\u001b[0m\u001b[0;34m)\u001b[0m\u001b[0;34m)\u001b[0m\u001b[0;34m\u001b[0m\u001b[0;34m\u001b[0m\u001b[0m\n\u001b[1;32m    381\u001b[0m             \u001b[0;32melse\u001b[0m\u001b[0;34m:\u001b[0m\u001b[0;34m\u001b[0m\u001b[0;34m\u001b[0m\u001b[0m\n\u001b[0;32m--> 382\u001b[0;31m                 \u001b[0mopt\u001b[0m\u001b[0;34m.\u001b[0m\u001b[0m_tell\u001b[0m\u001b[0;34m(\u001b[0m\u001b[0mx\u001b[0m\u001b[0;34m,\u001b[0m \u001b[0my_lie\u001b[0m\u001b[0;34m)\u001b[0m\u001b[0;34m\u001b[0m\u001b[0;34m\u001b[0m\u001b[0m\n\u001b[0m\u001b[1;32m    383\u001b[0m \u001b[0;34m\u001b[0m\u001b[0m\n\u001b[1;32m    384\u001b[0m         \u001b[0mself\u001b[0m\u001b[0;34m.\u001b[0m\u001b[0mcache_\u001b[0m \u001b[0;34m=\u001b[0m \u001b[0;34m{\u001b[0m\u001b[0;34m(\u001b[0m\u001b[0mn_points\u001b[0m\u001b[0;34m,\u001b[0m \u001b[0mstrategy\u001b[0m\u001b[0;34m)\u001b[0m\u001b[0;34m:\u001b[0m \u001b[0mX\u001b[0m\u001b[0;34m}\u001b[0m  \u001b[0;31m# cache_ the result\u001b[0m\u001b[0;34m\u001b[0m\u001b[0;34m\u001b[0m\u001b[0m\n",
            "\u001b[0;32m/usr/local/lib/python3.6/dist-packages/skopt/optimizer/optimizer.py\u001b[0m in \u001b[0;36m_tell\u001b[0;34m(self, x, y, fit)\u001b[0m\n\u001b[1;32m    511\u001b[0m             \u001b[0;31m# of points and then pick the best ones as starting points\u001b[0m\u001b[0;34m\u001b[0m\u001b[0;34m\u001b[0m\u001b[0;34m\u001b[0m\u001b[0m\n\u001b[1;32m    512\u001b[0m             X = self.space.transform(self.space.rvs(\n\u001b[0;32m--> 513\u001b[0;31m                 n_samples=self.n_points, random_state=self.rng))\n\u001b[0m\u001b[1;32m    514\u001b[0m \u001b[0;34m\u001b[0m\u001b[0m\n\u001b[1;32m    515\u001b[0m             \u001b[0mself\u001b[0m\u001b[0;34m.\u001b[0m\u001b[0mnext_xs_\u001b[0m \u001b[0;34m=\u001b[0m \u001b[0;34m[\u001b[0m\u001b[0;34m]\u001b[0m\u001b[0;34m\u001b[0m\u001b[0;34m\u001b[0m\u001b[0m\n",
            "\u001b[0;32m/usr/local/lib/python3.6/dist-packages/skopt/space/space.py\u001b[0m in \u001b[0;36mtransform\u001b[0;34m(self, X)\u001b[0m\n\u001b[1;32m    806\u001b[0m         \u001b[0;31m# Transform\u001b[0m\u001b[0;34m\u001b[0m\u001b[0;34m\u001b[0m\u001b[0;34m\u001b[0m\u001b[0m\n\u001b[1;32m    807\u001b[0m         \u001b[0;32mfor\u001b[0m \u001b[0mj\u001b[0m \u001b[0;32min\u001b[0m \u001b[0mrange\u001b[0m\u001b[0;34m(\u001b[0m\u001b[0mself\u001b[0m\u001b[0;34m.\u001b[0m\u001b[0mn_dims\u001b[0m\u001b[0;34m)\u001b[0m\u001b[0;34m:\u001b[0m\u001b[0;34m\u001b[0m\u001b[0;34m\u001b[0m\u001b[0m\n\u001b[0;32m--> 808\u001b[0;31m             \u001b[0mcolumns\u001b[0m\u001b[0;34m[\u001b[0m\u001b[0mj\u001b[0m\u001b[0;34m]\u001b[0m \u001b[0;34m=\u001b[0m \u001b[0mself\u001b[0m\u001b[0;34m.\u001b[0m\u001b[0mdimensions\u001b[0m\u001b[0;34m[\u001b[0m\u001b[0mj\u001b[0m\u001b[0;34m]\u001b[0m\u001b[0;34m.\u001b[0m\u001b[0mtransform\u001b[0m\u001b[0;34m(\u001b[0m\u001b[0mcolumns\u001b[0m\u001b[0;34m[\u001b[0m\u001b[0mj\u001b[0m\u001b[0;34m]\u001b[0m\u001b[0;34m)\u001b[0m\u001b[0;34m\u001b[0m\u001b[0;34m\u001b[0m\u001b[0m\n\u001b[0m\u001b[1;32m    809\u001b[0m \u001b[0;34m\u001b[0m\u001b[0m\n\u001b[1;32m    810\u001b[0m         \u001b[0;31m# Repack as an array\u001b[0m\u001b[0;34m\u001b[0m\u001b[0;34m\u001b[0m\u001b[0;34m\u001b[0m\u001b[0m\n",
            "\u001b[0;32m/usr/local/lib/python3.6/dist-packages/skopt/space/space.py\u001b[0m in \u001b[0;36mtransform\u001b[0;34m(self, X)\u001b[0m\n\u001b[1;32m    142\u001b[0m     \u001b[0;32mdef\u001b[0m \u001b[0mtransform\u001b[0m\u001b[0;34m(\u001b[0m\u001b[0mself\u001b[0m\u001b[0;34m,\u001b[0m \u001b[0mX\u001b[0m\u001b[0;34m)\u001b[0m\u001b[0;34m:\u001b[0m\u001b[0;34m\u001b[0m\u001b[0;34m\u001b[0m\u001b[0m\n\u001b[1;32m    143\u001b[0m         \u001b[0;34m\"\"\"Transform samples form the original space to a warped space.\"\"\"\u001b[0m\u001b[0;34m\u001b[0m\u001b[0;34m\u001b[0m\u001b[0m\n\u001b[0;32m--> 144\u001b[0;31m         \u001b[0;32mreturn\u001b[0m \u001b[0mself\u001b[0m\u001b[0;34m.\u001b[0m\u001b[0mtransformer\u001b[0m\u001b[0;34m.\u001b[0m\u001b[0mtransform\u001b[0m\u001b[0;34m(\u001b[0m\u001b[0mX\u001b[0m\u001b[0;34m)\u001b[0m\u001b[0;34m\u001b[0m\u001b[0;34m\u001b[0m\u001b[0m\n\u001b[0m\u001b[1;32m    145\u001b[0m \u001b[0;34m\u001b[0m\u001b[0m\n\u001b[1;32m    146\u001b[0m     \u001b[0;32mdef\u001b[0m \u001b[0minverse_transform\u001b[0m\u001b[0;34m(\u001b[0m\u001b[0mself\u001b[0m\u001b[0;34m,\u001b[0m \u001b[0mXt\u001b[0m\u001b[0;34m)\u001b[0m\u001b[0;34m:\u001b[0m\u001b[0;34m\u001b[0m\u001b[0;34m\u001b[0m\u001b[0m\n",
            "\u001b[0;32m/usr/local/lib/python3.6/dist-packages/skopt/space/transformers.py\u001b[0m in \u001b[0;36mtransform\u001b[0;34m(self, X)\u001b[0m\n\u001b[1;32m    232\u001b[0m     \u001b[0;32mdef\u001b[0m \u001b[0mtransform\u001b[0m\u001b[0;34m(\u001b[0m\u001b[0mself\u001b[0m\u001b[0;34m,\u001b[0m \u001b[0mX\u001b[0m\u001b[0;34m)\u001b[0m\u001b[0;34m:\u001b[0m\u001b[0;34m\u001b[0m\u001b[0;34m\u001b[0m\u001b[0m\n\u001b[1;32m    233\u001b[0m         \u001b[0;32mfor\u001b[0m \u001b[0mtransformer\u001b[0m \u001b[0;32min\u001b[0m \u001b[0mself\u001b[0m\u001b[0;34m.\u001b[0m\u001b[0mtransformers\u001b[0m\u001b[0;34m:\u001b[0m\u001b[0;34m\u001b[0m\u001b[0;34m\u001b[0m\u001b[0m\n\u001b[0;32m--> 234\u001b[0;31m             \u001b[0mX\u001b[0m \u001b[0;34m=\u001b[0m \u001b[0mtransformer\u001b[0m\u001b[0;34m.\u001b[0m\u001b[0mtransform\u001b[0m\u001b[0;34m(\u001b[0m\u001b[0mX\u001b[0m\u001b[0;34m)\u001b[0m\u001b[0;34m\u001b[0m\u001b[0;34m\u001b[0m\u001b[0m\n\u001b[0m\u001b[1;32m    235\u001b[0m         \u001b[0;32mreturn\u001b[0m \u001b[0mX\u001b[0m\u001b[0;34m\u001b[0m\u001b[0;34m\u001b[0m\u001b[0m\n\u001b[1;32m    236\u001b[0m \u001b[0;34m\u001b[0m\u001b[0m\n",
            "\u001b[0;32m/usr/local/lib/python3.6/dist-packages/skopt/space/transformers.py\u001b[0m in \u001b[0;36mtransform\u001b[0;34m(self, X)\u001b[0m\n\u001b[1;32m    181\u001b[0m             \u001b[0;32mif\u001b[0m \u001b[0mnp\u001b[0m\u001b[0;34m.\u001b[0m\u001b[0many\u001b[0m\u001b[0;34m(\u001b[0m\u001b[0mnp\u001b[0m\u001b[0;34m.\u001b[0m\u001b[0mround\u001b[0m\u001b[0;34m(\u001b[0m\u001b[0mX\u001b[0m\u001b[0;34m)\u001b[0m \u001b[0;34m<\u001b[0m \u001b[0mself\u001b[0m\u001b[0;34m.\u001b[0m\u001b[0mlow\u001b[0m\u001b[0;34m)\u001b[0m\u001b[0;34m:\u001b[0m\u001b[0;34m\u001b[0m\u001b[0;34m\u001b[0m\u001b[0m\n\u001b[1;32m    182\u001b[0m                 raise ValueError(\"All integer values should\"\n\u001b[0;32m--> 183\u001b[0;31m                                  \"be greater than %f\" % self.low)\n\u001b[0m\u001b[1;32m    184\u001b[0m         \u001b[0;32melse\u001b[0m\u001b[0;34m:\u001b[0m\u001b[0;34m\u001b[0m\u001b[0;34m\u001b[0m\u001b[0m\n\u001b[1;32m    185\u001b[0m             \u001b[0;32mif\u001b[0m \u001b[0mnp\u001b[0m\u001b[0;34m.\u001b[0m\u001b[0many\u001b[0m\u001b[0;34m(\u001b[0m\u001b[0mX\u001b[0m \u001b[0;34m>\u001b[0m \u001b[0mself\u001b[0m\u001b[0;34m.\u001b[0m\u001b[0mhigh\u001b[0m \u001b[0;34m+\u001b[0m \u001b[0;36m1e-8\u001b[0m\u001b[0;34m)\u001b[0m\u001b[0;34m:\u001b[0m\u001b[0;34m\u001b[0m\u001b[0;34m\u001b[0m\u001b[0m\n",
            "\u001b[0;31mValueError\u001b[0m: All integer values shouldbe greater than 0.000000"
          ]
        }
      ]
    },
    {
      "cell_type": "code",
      "metadata": {
        "id": "desfEXVUWYOj",
        "colab_type": "code",
        "colab": {}
      },
      "source": [
        "from sklearn.model_selection import train_test_split\n",
        "\n",
        "X_train, X_test, y_train, y_test = train_test_split(trainX, trainY, test_size=0.20)\n",
        "\n",
        "dtrain = xgb.DMatrix(X_train, label=y_train)\n",
        "\n",
        "dtest = xgb.DMatrix(X_test)\n"
      ],
      "execution_count": 0,
      "outputs": []
    },
    {
      "cell_type": "code",
      "metadata": {
        "id": "y9MgjJkurJi_",
        "colab_type": "code",
        "colab": {
          "base_uri": "https://localhost:8080/",
          "height": 298
        },
        "outputId": "c9401846-6e0c-4f14-9759-b64e51a7980d"
      },
      "source": [
        "#Importing necessary libraries\n",
        "from bayes_opt import BayesianOptimization\n",
        "import xgboost as xgb\n",
        "\n",
        "#Bayesian Optimization function for xgboost\n",
        "#specify the parameters you want to tune as keyword arguments\n",
        "def bo_tune_xgb(max_depth, gamma, n_estimators, learning_rate):\n",
        "  params = {'max_depth': int(max_depth),\n",
        "              'gamma': gamma,\n",
        "              'n_estimators': int(n_estimators),\n",
        "              'learning_rate':learning_rate,\n",
        "              'subsample': 0.8,\n",
        "              'eta': 0.1,\n",
        "              'eval_metric': 'auc'}\n",
        "  #Cross validating with the specified parameters in 5 folds and 70 iterations\n",
        "  cv_result = xgb.cv(params, dtrain, num_boost_round=70, nfold=5)\n",
        "  return cv_result['test-auc-mean'].iloc[-1]\n",
        "\n",
        "#Invoking the Bayesian Optimizer with the specified parameters to tune\n",
        "xgb_bo = BayesianOptimization(bo_tune_xgb, {'max_depth': (3, 10),\n",
        "                                             'gamma': (0, 1),\n",
        "                                             'learning_rate':(0,1),\n",
        "                                             'n_estimators':(100,200)\n",
        "                                            })\n",
        "\n",
        "#performing Bayesian optimization for 5 iterations with 8 steps of random exploration with an #acquisition function of expected improvement\n",
        "xgb_bo.maximize(n_iter=5, init_points=8, acq='ei')"
      ],
      "execution_count": 39,
      "outputs": [
        {
          "output_type": "stream",
          "text": [
            "|   iter    |  target   |   gamma   | learni... | max_depth | n_esti... |\n",
            "-------------------------------------------------------------------------\n",
            "| \u001b[0m 1       \u001b[0m | \u001b[0m 0.809   \u001b[0m | \u001b[0m 0.7876  \u001b[0m | \u001b[0m 0.6255  \u001b[0m | \u001b[0m 3.27    \u001b[0m | \u001b[0m 111.4   \u001b[0m |\n",
            "| \u001b[0m 2       \u001b[0m | \u001b[0m 0.7757  \u001b[0m | \u001b[0m 0.1407  \u001b[0m | \u001b[0m 0.6563  \u001b[0m | \u001b[0m 6.48    \u001b[0m | \u001b[0m 111.5   \u001b[0m |\n",
            "| \u001b[0m 3       \u001b[0m | \u001b[0m 0.8047  \u001b[0m | \u001b[0m 0.2054  \u001b[0m | \u001b[0m 0.4251  \u001b[0m | \u001b[0m 4.05    \u001b[0m | \u001b[0m 104.5   \u001b[0m |\n",
            "| \u001b[95m 4       \u001b[0m | \u001b[95m 0.817   \u001b[0m | \u001b[95m 0.01957 \u001b[0m | \u001b[95m 0.225   \u001b[0m | \u001b[95m 5.568   \u001b[0m | \u001b[95m 104.8   \u001b[0m |\n",
            "| \u001b[0m 5       \u001b[0m | \u001b[0m 0.7758  \u001b[0m | \u001b[0m 0.07697 \u001b[0m | \u001b[0m 0.7054  \u001b[0m | \u001b[0m 5.433   \u001b[0m | \u001b[0m 106.4   \u001b[0m |\n",
            "| \u001b[0m 6       \u001b[0m | \u001b[0m 0.7959  \u001b[0m | \u001b[0m 0.2078  \u001b[0m | \u001b[0m 0.4872  \u001b[0m | \u001b[0m 6.668   \u001b[0m | \u001b[0m 113.7   \u001b[0m |\n",
            "| \u001b[95m 7       \u001b[0m | \u001b[95m 0.8365  \u001b[0m | \u001b[95m 0.996   \u001b[0m | \u001b[95m 0.1088  \u001b[0m | \u001b[95m 8.201   \u001b[0m | \u001b[95m 119.6   \u001b[0m |\n",
            "| \u001b[0m 8       \u001b[0m | \u001b[0m 0.8016  \u001b[0m | \u001b[0m 0.4465  \u001b[0m | \u001b[0m 0.7741  \u001b[0m | \u001b[0m 3.067   \u001b[0m | \u001b[0m 108.8   \u001b[0m |\n",
            "| \u001b[0m 9       \u001b[0m | \u001b[0m 0.5     \u001b[0m | \u001b[0m 0.0     \u001b[0m | \u001b[0m 0.0     \u001b[0m | \u001b[0m 3.0     \u001b[0m | \u001b[0m 120.0   \u001b[0m |\n",
            "| \u001b[0m 10      \u001b[0m | \u001b[0m 0.5     \u001b[0m | \u001b[0m 1.0     \u001b[0m | \u001b[0m 0.0     \u001b[0m | \u001b[0m 10.0    \u001b[0m | \u001b[0m 100.0   \u001b[0m |\n",
            "| \u001b[0m 11      \u001b[0m | \u001b[0m 0.5     \u001b[0m | \u001b[0m 1.0     \u001b[0m | \u001b[0m 0.0     \u001b[0m | \u001b[0m 10.0    \u001b[0m | \u001b[0m 117.6   \u001b[0m |\n",
            "| \u001b[0m 12      \u001b[0m | \u001b[0m 0.7682  \u001b[0m | \u001b[0m 1.0     \u001b[0m | \u001b[0m 1.0     \u001b[0m | \u001b[0m 7.126   \u001b[0m | \u001b[0m 120.0   \u001b[0m |\n",
            "| \u001b[0m 13      \u001b[0m | \u001b[0m 0.5     \u001b[0m | \u001b[0m 0.0     \u001b[0m | \u001b[0m 0.0     \u001b[0m | \u001b[0m 3.0     \u001b[0m | \u001b[0m 100.0   \u001b[0m |\n",
            "=========================================================================\n"
          ],
          "name": "stdout"
        }
      ]
    },
    {
      "cell_type": "code",
      "metadata": {
        "id": "6bYXQ9mq1wUX",
        "colab_type": "code",
        "colab": {
          "base_uri": "https://localhost:8080/",
          "height": 34
        },
        "outputId": "660f0cf0-6733-490d-98ac-2143563cab62"
      },
      "source": [
        "#Extracting the best parameters\n",
        "params = xgb_bo.max['params']\n",
        "print(params)\n",
        "\n",
        "#Converting the max_depth and n_estimator values from float to int\n",
        "params['max_depth']= int(params['max_depth'])\n",
        "params['n_estimators']= int(params['n_estimators'])\n",
        "\n",
        "#Initialize an XGBClassifier with the tuned parameters and fit the training data\n",
        "classifier2 = XGBClassifier(**params).fit(trainX, trainY)\n",
        "\n",
        "#predicting for training set\n",
        "predictBayesXGB = classifier2.predict_proba(testX)[:,1]\n",
        "\n",
        "# Looking at the classification report\n",
        "# print(classification_report(predictBayesXGB))"
      ],
      "execution_count": 44,
      "outputs": [
        {
          "output_type": "stream",
          "text": [
            "{'gamma': 0.996048952691193, 'learning_rate': 0.1088439708485891, 'max_depth': 8.200970753233978, 'n_estimators': 119.56253729978171}\n"
          ],
          "name": "stdout"
        }
      ]
    },
    {
      "cell_type": "code",
      "metadata": {
        "id": "U6rhr0id2x-n",
        "colab_type": "code",
        "colab": {}
      },
      "source": [
        "result = pd.DataFrame({\"Id\": test[\"Id\"], 'Y':predictBayesXGB})\n",
        "result.to_csv('resultBayes.csv', index = False)\n",
        "files.download('resultBayes.csv')"
      ],
      "execution_count": 0,
      "outputs": []
    },
    {
      "cell_type": "code",
      "metadata": {
        "id": "ofZfsGyS23Sa",
        "colab_type": "code",
        "colab": {}
      },
      "source": [
        ""
      ],
      "execution_count": 0,
      "outputs": []
    }
  ]
}